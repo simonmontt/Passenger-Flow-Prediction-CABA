{
 "cells": [
  {
   "cell_type": "code",
   "execution_count": 1,
   "id": "6e7264f6-6e01-4b9d-98ff-654667e0f0d3",
   "metadata": {},
   "outputs": [],
   "source": [
    "from datetime import datetime\n",
    "\n",
    "def calculate_hours_difference(start_time: datetime, end_time: datetime) -> float:\n",
    "    \"\"\"\n",
    "    Calculate the difference between two datetime objects in hours.\n",
    "    \n",
    "    :param start_time: The start datetime.\n",
    "    :param end_time: The end datetime.\n",
    "    :return: The difference in hours as a float.\n",
    "    \"\"\"\n",
    "    time_difference = end_time - start_time\n",
    "    hours_difference = time_difference.total_seconds() / 3600  # Convert seconds to hours\n",
    "    return hours_difference\n"
   ]
  },
  {
   "cell_type": "code",
   "execution_count": 3,
   "id": "4c5281f8-7ea6-41eb-9d4e-8cb41d0c022b",
   "metadata": {},
   "outputs": [
    {
     "name": "stdout",
     "output_type": "stream",
     "text": [
      "The difference in hours is: 331.0 hours\n"
     ]
    }
   ],
   "source": [
    "from datetime import datetime\n",
    "\n",
    "start_time = datetime(2024, 9, 19, 1, 0)  # 2nd Oct 2024, 08:30 AM\n",
    "end_time = datetime(2024, 10, 2, 20, 0)   # 2nd Oct 2024, 02:45 PM\n",
    "\n",
    "hours_diff = calculate_hours_difference(start_time, end_time)\n",
    "print(f\"The difference in hours is: {hours_diff} hours\")\n",
    "\n",
    "#2024-09-19 01:00:00+00:00 to 2024-10-02 20:00:00+00:00"
   ]
  }
 ],
 "metadata": {
  "kernelspec": {
   "display_name": "Python 3 (ipykernel)",
   "language": "python",
   "name": "python3"
  },
  "language_info": {
   "codemirror_mode": {
    "name": "ipython",
    "version": 3
   },
   "file_extension": ".py",
   "mimetype": "text/x-python",
   "name": "python",
   "nbconvert_exporter": "python",
   "pygments_lexer": "ipython3",
   "version": "3.9.13"
  }
 },
 "nbformat": 4,
 "nbformat_minor": 5
}
