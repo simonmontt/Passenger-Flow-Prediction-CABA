{
 "cells": [
  {
   "cell_type": "code",
   "execution_count": 2,
   "id": "6e7264f6-6e01-4b9d-98ff-654667e0f0d3",
   "metadata": {},
   "outputs": [],
   "source": [
    "from datetime import datetime, timedelta\n",
    "from src.inferencesm import load_predictions_from_store"
   ]
  },
  {
   "cell_type": "code",
   "execution_count": null,
   "id": "4c5281f8-7ea6-41eb-9d4e-8cb41d0c022b",
   "metadata": {},
   "outputs": [
    {
     "name": "stderr",
     "output_type": "stream",
     "text": [
      "InsecureRequestWarning: Unverified HTTPS request is being made to host 'c.app.hopsworks.ai'. Adding certificate verification is strongly advised. See: https://urllib3.readthedocs.io/en/1.26.x/advanced-usage.html#ssl-warnings\n"
     ]
    },
    {
     "name": "stdout",
     "output_type": "stream",
     "text": [
      "Connected. Call `.close()` to terminate connection gracefully.\n"
     ]
    }
   ],
   "source": [
    "current_time = datetime.now().replace(minute=0, second=0, microsecond=0)\n",
    "#from_hour_of_entry = current_time  \n",
    "to_hour_of_entry = current_time# -timedelta(hours=4)\n",
    "load_predictions_from_store(to_hour_of_entry)"
   ]
  }
 ],
 "metadata": {
  "kernelspec": {
   "display_name": "Python 3 (ipykernel)",
   "language": "python",
   "name": "python3"
  },
  "language_info": {
   "codemirror_mode": {
    "name": "ipython",
    "version": 3
   },
   "file_extension": ".py",
   "mimetype": "text/x-python",
   "name": "python",
   "nbconvert_exporter": "python",
   "pygments_lexer": "ipython3",
   "version": "3.9.13"
  }
 },
 "nbformat": 4,
 "nbformat_minor": 5
}
