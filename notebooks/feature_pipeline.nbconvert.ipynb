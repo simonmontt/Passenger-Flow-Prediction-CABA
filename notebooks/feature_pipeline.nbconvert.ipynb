{
 "cells": [
  {
   "cell_type": "code",
   "execution_count": 1,
   "id": "60dee5a2-23a7-440a-aa16-61bf9a506692",
   "metadata": {
    "execution": {
     "iopub.execute_input": "2024-10-01T22:32:38.432460Z",
     "iopub.status.busy": "2024-10-01T22:32:38.432460Z",
     "iopub.status.idle": "2024-10-01T22:32:43.510483Z",
     "shell.execute_reply": "2024-10-01T22:32:43.510483Z"
    }
   },
   "outputs": [],
   "source": [
    "from datetime import datetime, timedelta, date\n",
    "import pytz\n",
    "import hopsworks\n",
    "import src.config as cfg\n",
    "import pandas as pd"
   ]
  },
  {
   "cell_type": "code",
   "execution_count": 2,
   "id": "a125691b-98f8-4b33-8b24-9fea2de1564a",
   "metadata": {
    "execution": {
     "iopub.execute_input": "2024-10-01T22:32:43.510483Z",
     "iopub.status.busy": "2024-10-01T22:32:43.510483Z",
     "iopub.status.idle": "2024-10-01T22:32:43.713602Z",
     "shell.execute_reply": "2024-10-01T22:32:43.713602Z"
    }
   },
   "outputs": [],
   "source": [
    "%reload_ext autoreload\n",
    "%autoreload 2"
   ]
  },
  {
   "cell_type": "code",
   "execution_count": 3,
   "id": "916932b5-fa1b-423c-b28e-738a6b74d082",
   "metadata": {
    "execution": {
     "iopub.execute_input": "2024-10-01T22:32:43.713602Z",
     "iopub.status.busy": "2024-10-01T22:32:43.713602Z",
     "iopub.status.idle": "2024-10-01T22:32:44.072928Z",
     "shell.execute_reply": "2024-10-01T22:32:44.072928Z"
    }
   },
   "outputs": [
    {
     "data": {
      "text/plain": [
       "Timestamp('2024-10-01 19:00:00')"
      ]
     },
     "execution_count": 3,
     "metadata": {},
     "output_type": "execute_result"
    }
   ],
   "source": [
    "# Define Argentina's timezone (GMT-3)\n",
    "argentina_tz = pytz.timezone('America/Argentina/Buenos_Aires')\n",
    "\n",
    "# Get the current date and time in Argentina\n",
    "current_time_in_argentina = datetime.now(argentina_tz).replace(minute=0, second=0, microsecond=0).strftime('%Y-%m-%d %H:%M:%S')\n",
    "# Round down (floor) to the nearest hour by setting minutes, seconds, and microseconds to 0\n",
    "current_time_in_argentina = pd.to_datetime(current_time_in_argentina)\n",
    "current_time_in_argentina"
   ]
  },
  {
   "cell_type": "code",
   "execution_count": 4,
   "id": "e9bbc7fd-c33d-4df0-9a95-8e016f356334",
   "metadata": {
    "execution": {
     "iopub.execute_input": "2024-10-01T22:32:44.072928Z",
     "iopub.status.busy": "2024-10-01T22:32:44.072928Z",
     "iopub.status.idle": "2024-10-01T22:32:45.541729Z",
     "shell.execute_reply": "2024-10-01T22:32:45.541729Z"
    }
   },
   "outputs": [
    {
     "data": {
      "text/html": [
       "<div>\n",
       "<style scoped>\n",
       "    .dataframe tbody tr th:only-of-type {\n",
       "        vertical-align: middle;\n",
       "    }\n",
       "\n",
       "    .dataframe tbody tr th {\n",
       "        vertical-align: top;\n",
       "    }\n",
       "\n",
       "    .dataframe thead th {\n",
       "        text-align: right;\n",
       "    }\n",
       "</style>\n",
       "<table border=\"1\" class=\"dataframe\">\n",
       "  <thead>\n",
       "    <tr style=\"text-align: right;\">\n",
       "      <th></th>\n",
       "      <th>hour_of_entry</th>\n",
       "      <th>line</th>\n",
       "      <th>station</th>\n",
       "      <th>total_pax</th>\n",
       "    </tr>\n",
       "  </thead>\n",
       "  <tbody>\n",
       "    <tr>\n",
       "      <th>0</th>\n",
       "      <td>2022-01-01 08:00:00</td>\n",
       "      <td>A</td>\n",
       "      <td>Acoyte</td>\n",
       "      <td>21.0</td>\n",
       "    </tr>\n",
       "    <tr>\n",
       "      <th>1</th>\n",
       "      <td>2022-01-01 09:00:00</td>\n",
       "      <td>A</td>\n",
       "      <td>Acoyte</td>\n",
       "      <td>11.0</td>\n",
       "    </tr>\n",
       "    <tr>\n",
       "      <th>2</th>\n",
       "      <td>2022-01-01 10:00:00</td>\n",
       "      <td>A</td>\n",
       "      <td>Acoyte</td>\n",
       "      <td>27.0</td>\n",
       "    </tr>\n",
       "    <tr>\n",
       "      <th>3</th>\n",
       "      <td>2022-01-01 11:00:00</td>\n",
       "      <td>A</td>\n",
       "      <td>Acoyte</td>\n",
       "      <td>24.0</td>\n",
       "    </tr>\n",
       "    <tr>\n",
       "      <th>4</th>\n",
       "      <td>2022-01-01 12:00:00</td>\n",
       "      <td>A</td>\n",
       "      <td>Acoyte</td>\n",
       "      <td>49.0</td>\n",
       "    </tr>\n",
       "    <tr>\n",
       "      <th>...</th>\n",
       "      <td>...</td>\n",
       "      <td>...</td>\n",
       "      <td>...</td>\n",
       "      <td>...</td>\n",
       "    </tr>\n",
       "    <tr>\n",
       "      <th>929868</th>\n",
       "      <td>2024-05-31 19:00:00</td>\n",
       "      <td>C</td>\n",
       "      <td>San Juan</td>\n",
       "      <td>199.0</td>\n",
       "    </tr>\n",
       "    <tr>\n",
       "      <th>929869</th>\n",
       "      <td>2024-05-31 20:00:00</td>\n",
       "      <td>C</td>\n",
       "      <td>San Juan</td>\n",
       "      <td>208.0</td>\n",
       "    </tr>\n",
       "    <tr>\n",
       "      <th>929870</th>\n",
       "      <td>2024-05-31 21:00:00</td>\n",
       "      <td>C</td>\n",
       "      <td>San Juan</td>\n",
       "      <td>161.0</td>\n",
       "    </tr>\n",
       "    <tr>\n",
       "      <th>929871</th>\n",
       "      <td>2024-05-31 22:00:00</td>\n",
       "      <td>C</td>\n",
       "      <td>San Juan</td>\n",
       "      <td>253.0</td>\n",
       "    </tr>\n",
       "    <tr>\n",
       "      <th>929872</th>\n",
       "      <td>2024-05-31 23:00:00</td>\n",
       "      <td>C</td>\n",
       "      <td>San Juan</td>\n",
       "      <td>23.0</td>\n",
       "    </tr>\n",
       "  </tbody>\n",
       "</table>\n",
       "<p>929873 rows × 4 columns</p>\n",
       "</div>"
      ],
      "text/plain": [
       "              hour_of_entry line   station  total_pax\n",
       "0       2022-01-01 08:00:00    A    Acoyte       21.0\n",
       "1       2022-01-01 09:00:00    A    Acoyte       11.0\n",
       "2       2022-01-01 10:00:00    A    Acoyte       27.0\n",
       "3       2022-01-01 11:00:00    A    Acoyte       24.0\n",
       "4       2022-01-01 12:00:00    A    Acoyte       49.0\n",
       "...                     ...  ...       ...        ...\n",
       "929868  2024-05-31 19:00:00    C  San Juan      199.0\n",
       "929869  2024-05-31 20:00:00    C  San Juan      208.0\n",
       "929870  2024-05-31 21:00:00    C  San Juan      161.0\n",
       "929871  2024-05-31 22:00:00    C  San Juan      253.0\n",
       "929872  2024-05-31 23:00:00    C  San Juan       23.0\n",
       "\n",
       "[929873 rows x 4 columns]"
      ]
     },
     "execution_count": 4,
     "metadata": {},
     "output_type": "execute_result"
    }
   ],
   "source": [
    "df = pd.read_csv('222324_together_total_pax.csv')\n",
    "df['line'] = df['line'].str[-1]\n",
    "df.drop(columns='Unnamed: 0', inplace=True)\n",
    "df"
   ]
  },
  {
   "cell_type": "code",
   "execution_count": 5,
   "id": "e80069e2-e8ca-40c2-ba8d-1b6751a6a9dc",
   "metadata": {
    "execution": {
     "iopub.execute_input": "2024-10-01T22:32:45.541729Z",
     "iopub.status.busy": "2024-10-01T22:32:45.541729Z",
     "iopub.status.idle": "2024-10-01T22:32:47.119930Z",
     "shell.execute_reply": "2024-10-01T22:32:47.119930Z"
    },
    "scrolled": true
   },
   "outputs": [
    {
     "name": "stdout",
     "output_type": "stream",
     "text": [
      "2024-10-01 19:32:46,635 WARNING: SettingWithCopyWarning: \n",
      "A value is trying to be set on a copy of a slice from a DataFrame.\n",
      "Try using .loc[row_indexer,col_indexer] = value instead\n",
      "\n",
      "See the caveats in the documentation: https://pandas.pydata.org/pandas-docs/stable/user_guide/indexing.html#returning-a-view-versus-a-copy\n",
      "\n"
     ]
    },
    {
     "name": "stdout",
     "output_type": "stream",
     "text": [
      "2024-10-01 19:32:46,666 WARNING: SettingWithCopyWarning: \n",
      "A value is trying to be set on a copy of a slice from a DataFrame.\n",
      "Try using .loc[row_indexer,col_indexer] = value instead\n",
      "\n",
      "See the caveats in the documentation: https://pandas.pydata.org/pandas-docs/stable/user_guide/indexing.html#returning-a-view-versus-a-copy\n",
      "\n"
     ]
    }
   ],
   "source": [
    "import pandas as pd\n",
    "from datetime import timedelta\n",
    "\n",
    "# Ensure the 'hour_of_entry' column is datetime\n",
    "df['hour_of_entry'] = pd.to_datetime(df['hour_of_entry'])\n",
    "\n",
    "# Define current time in Argentina\n",
    "#current_time_in_argentina = pd.to_datetime('now')\n",
    "\n",
    "# ---- Step 1: Handle 2024 Data with 2023 Shifted ----\n",
    "# Define the period of interest for 2024 (2024-06-01 to today)\n",
    "start_2024 = pd.to_datetime('2024-06-01 00:00:00')\n",
    "end_2024 = current_time_in_argentina\n",
    "\n",
    "# Filter the corresponding 2023 data for the 2024 range (one year back)\n",
    "df_2023_for_2024 = df[(df['hour_of_entry'] >= start_2024 - timedelta(days=366)) &\n",
    "                      (df['hour_of_entry'] <= end_2024 - timedelta(days=366))]\n",
    "\n",
    "# Shift the 2023 data forward by one year (366 days for leap year)\n",
    "df_2023_for_2024['hour_of_entry'] = df_2023_for_2024['hour_of_entry'] + timedelta(days=366)\n",
    "\n",
    "# ---- Step 2: Handle 2023-06-01 to Today Minus 1 Year with 2022 Shifted ----\n",
    "# Define the period from 2023-06-01 to today minus 1 year\n",
    "start_2023 = pd.to_datetime('2023-06-01 00:00:00')\n",
    "end_2023_shift_period = current_time_in_argentina - timedelta(days=365)\n",
    "\n",
    "# Filter the corresponding 2022 data for the 2023 range (one year back)\n",
    "df_2022_for_2023 = df[(df['hour_of_entry'] >= start_2023 - timedelta(days=365)) &\n",
    "                      (df['hour_of_entry'] <= end_2023_shift_period - timedelta(days=365))]\n",
    "\n",
    "# Shift the 2022 data forward by one year (365 days)\n",
    "df_2022_for_2023['hour_of_entry'] = df_2022_for_2023['hour_of_entry'] + timedelta(days=365)\n",
    "\n",
    "# ---- Step 3: Keep the Original 2024 Data Between 2024-01-01 and 2024-06-01 ----\n",
    "# Define the period from 2024-01-01 to 2024-06-01\n",
    "start_2024_january = pd.to_datetime('2024-01-01')\n",
    "end_2024_june = pd.to_datetime('2024-06-01')\n",
    "\n",
    "# Filter the original 2024 data for this period (from January 1st to June 1st, 2024)\n",
    "df_original_2024 = df[(df['hour_of_entry'] >= start_2024_january) &\n",
    "                      (df['hour_of_entry'] < end_2024_june)]\n",
    "\n",
    "# ---- Step 4: Keep the Original 2023 Data Between Today Minus 1 Year and Start of 2024 ----\n",
    "# Define the period from today minus 1 year to the start of 2024\n",
    "one_year_ago = current_time_in_argentina - timedelta(days=365)\n",
    "\n",
    "# Filter the original data for this period (from today minus 1 year to the start of 2024)\n",
    "df_original_2023_for_2024_period = df[(df['hour_of_entry'] >= one_year_ago) &\n",
    "                                      (df['hour_of_entry'] < start_2024_january)]\n",
    "\n",
    "# ---- Step 5: Keep the Original 2023 Data Before 2023-06-01 ----\n",
    "# Filter the original data for 2023 (before June 1, 2023)\n",
    "df_original_2023 = df[(df['hour_of_entry'] >= pd.to_datetime('2023-01-01')) &\n",
    "                      (df['hour_of_entry'] < pd.to_datetime('2023-06-01'))]\n",
    "\n",
    "# ---- Step 6: Handle the Original 2022 Data for Today Minus 2 Years to End of 2022 ----\n",
    "# Calculate the date two years ago from today\n",
    "two_years_ago = current_time_in_argentina - timedelta(days=2*365)\n",
    "\n",
    "# Filter the original data for the period between two years ago and the end of 2022\n",
    "df_original_2022 = df[(df['hour_of_entry'] >= two_years_ago) &\n",
    "                      (df['hour_of_entry'] <= pd.to_datetime('2022-12-31 23:59:59'))]\n",
    "\n",
    "# ---- Step 7: Combine the Data and Sort ----\n",
    "df_combined = pd.concat([df_original_2022, df_original_2023, df_2022_for_2023, \n",
    "                         df_2023_for_2024, df_original_2024, df_original_2023_for_2024_period]).drop_duplicates(subset=['hour_of_entry', 'line', 'station'], keep='first')\n",
    "\n",
    "# Sort the combined DataFrame by 'hour_of_entry' in ascending order\n",
    "df_combined = df_combined.sort_values(by='hour_of_entry', ascending=True).reset_index(drop=True)\n",
    "\n",
    "# The final DataFrame should now be sorted in ascending order by 'hour_of_entry'\n",
    "ts_hourly_data = df_combined\n"
   ]
  },
  {
   "cell_type": "code",
   "execution_count": 6,
   "id": "4c60c397-7c42-4f23-9c20-f6fe096473c7",
   "metadata": {
    "execution": {
     "iopub.execute_input": "2024-10-01T22:32:47.119930Z",
     "iopub.status.busy": "2024-10-01T22:32:47.119930Z",
     "iopub.status.idle": "2024-10-01T22:32:47.322877Z",
     "shell.execute_reply": "2024-10-01T22:32:47.322877Z"
    }
   },
   "outputs": [
    {
     "data": {
      "text/plain": [
       "(Timestamp('2022-10-02 19:00:00'), Timestamp('2024-10-01 19:00:00'))"
      ]
     },
     "execution_count": 6,
     "metadata": {},
     "output_type": "execute_result"
    }
   ],
   "source": [
    "ts_hourly_data.hour_of_entry.min(), ts_hourly_data.hour_of_entry.max()"
   ]
  },
  {
   "cell_type": "code",
   "execution_count": 7,
   "id": "0b4511d9-65c5-4029-91e5-1037fadd2124",
   "metadata": {
    "execution": {
     "iopub.execute_input": "2024-10-01T22:32:47.322877Z",
     "iopub.status.busy": "2024-10-01T22:32:47.322877Z",
     "iopub.status.idle": "2024-10-01T22:32:47.557266Z",
     "shell.execute_reply": "2024-10-01T22:32:47.557266Z"
    }
   },
   "outputs": [
    {
     "data": {
      "text/html": [
       "<div>\n",
       "<style scoped>\n",
       "    .dataframe tbody tr th:only-of-type {\n",
       "        vertical-align: middle;\n",
       "    }\n",
       "\n",
       "    .dataframe tbody tr th {\n",
       "        vertical-align: top;\n",
       "    }\n",
       "\n",
       "    .dataframe thead th {\n",
       "        text-align: right;\n",
       "    }\n",
       "</style>\n",
       "<table border=\"1\" class=\"dataframe\">\n",
       "  <thead>\n",
       "    <tr style=\"text-align: right;\">\n",
       "      <th></th>\n",
       "      <th>hour_of_entry</th>\n",
       "      <th>line</th>\n",
       "      <th>station</th>\n",
       "      <th>total_pax</th>\n",
       "    </tr>\n",
       "  </thead>\n",
       "  <tbody>\n",
       "    <tr>\n",
       "      <th>0</th>\n",
       "      <td>2023-09-14 23:00:00</td>\n",
       "      <td>B</td>\n",
       "      <td>Angel Gallardo</td>\n",
       "      <td>55.0</td>\n",
       "    </tr>\n",
       "    <tr>\n",
       "      <th>1</th>\n",
       "      <td>2023-09-14 23:00:00</td>\n",
       "      <td>A</td>\n",
       "      <td>Castro Barros</td>\n",
       "      <td>18.0</td>\n",
       "    </tr>\n",
       "    <tr>\n",
       "      <th>2</th>\n",
       "      <td>2023-09-14 23:00:00</td>\n",
       "      <td>C</td>\n",
       "      <td>General San Martin</td>\n",
       "      <td>14.0</td>\n",
       "    </tr>\n",
       "    <tr>\n",
       "      <th>3</th>\n",
       "      <td>2023-09-14 23:00:00</td>\n",
       "      <td>B</td>\n",
       "      <td>Carlos Pellegrini</td>\n",
       "      <td>178.0</td>\n",
       "    </tr>\n",
       "    <tr>\n",
       "      <th>4</th>\n",
       "      <td>2023-09-14 23:00:00</td>\n",
       "      <td>A</td>\n",
       "      <td>Acoyte</td>\n",
       "      <td>38.0</td>\n",
       "    </tr>\n",
       "    <tr>\n",
       "      <th>...</th>\n",
       "      <td>...</td>\n",
       "      <td>...</td>\n",
       "      <td>...</td>\n",
       "      <td>...</td>\n",
       "    </tr>\n",
       "    <tr>\n",
       "      <th>38099</th>\n",
       "      <td>2024-10-01 19:00:00</td>\n",
       "      <td>A</td>\n",
       "      <td>Acoyte</td>\n",
       "      <td>292.0</td>\n",
       "    </tr>\n",
       "    <tr>\n",
       "      <th>38100</th>\n",
       "      <td>2024-10-01 19:00:00</td>\n",
       "      <td>C</td>\n",
       "      <td>Constitucion</td>\n",
       "      <td>1517.0</td>\n",
       "    </tr>\n",
       "    <tr>\n",
       "      <th>38101</th>\n",
       "      <td>2024-10-01 19:00:00</td>\n",
       "      <td>B</td>\n",
       "      <td>Malabia</td>\n",
       "      <td>392.0</td>\n",
       "    </tr>\n",
       "    <tr>\n",
       "      <th>38102</th>\n",
       "      <td>2024-10-01 19:00:00</td>\n",
       "      <td>A</td>\n",
       "      <td>Pasco</td>\n",
       "      <td>30.0</td>\n",
       "    </tr>\n",
       "    <tr>\n",
       "      <th>38103</th>\n",
       "      <td>2024-10-01 19:00:00</td>\n",
       "      <td>A</td>\n",
       "      <td>Carabobo</td>\n",
       "      <td>151.0</td>\n",
       "    </tr>\n",
       "  </tbody>\n",
       "</table>\n",
       "<p>38104 rows × 4 columns</p>\n",
       "</div>"
      ],
      "text/plain": [
       "            hour_of_entry line             station  total_pax\n",
       "0     2023-09-14 23:00:00    B      Angel Gallardo       55.0\n",
       "1     2023-09-14 23:00:00    A       Castro Barros       18.0\n",
       "2     2023-09-14 23:00:00    C  General San Martin       14.0\n",
       "3     2023-09-14 23:00:00    B   Carlos Pellegrini      178.0\n",
       "4     2023-09-14 23:00:00    A              Acoyte       38.0\n",
       "...                   ...  ...                 ...        ...\n",
       "38099 2024-10-01 19:00:00    A              Acoyte      292.0\n",
       "38100 2024-10-01 19:00:00    C        Constitucion     1517.0\n",
       "38101 2024-10-01 19:00:00    B             Malabia      392.0\n",
       "38102 2024-10-01 19:00:00    A               Pasco       30.0\n",
       "38103 2024-10-01 19:00:00    A            Carabobo      151.0\n",
       "\n",
       "[38104 rows x 4 columns]"
      ]
     },
     "execution_count": 7,
     "metadata": {},
     "output_type": "execute_result"
    }
   ],
   "source": [
    "# Define the start time (15 days before the end time)\n",
    "end_time = current_time_in_argentina\n",
    "start_time = end_time - timedelta(days=18)\n",
    "\n",
    "# Filter the DataFrame between the start and end times\n",
    "ts_hourly_data_2024 = ts_hourly_data[(ts_hourly_data['hour_of_entry'] >= start_time) & (ts_hourly_data['hour_of_entry'] <= end_time)]\n",
    "\n",
    "end_time = (current_time_in_argentina - timedelta(days=365)) + timedelta(hours=4)\n",
    "start_time = end_time - timedelta(days=18)\n",
    "\n",
    "ts_hourly_data_2023 = ts_hourly_data[(ts_hourly_data['hour_of_entry'] >= start_time) & (ts_hourly_data['hour_of_entry'] <= end_time)]\n",
    "ts_hourly_data_f = pd.concat([ts_hourly_data_2023, ts_hourly_data_2024], ignore_index=True)\n",
    "ts_hourly_data_f"
   ]
  },
  {
   "cell_type": "code",
   "execution_count": 8,
   "id": "8ef5df47-2cda-4718-9ce7-970a6d3bd09b",
   "metadata": {
    "execution": {
     "iopub.execute_input": "2024-10-01T22:32:47.557266Z",
     "iopub.status.busy": "2024-10-01T22:32:47.557266Z",
     "iopub.status.idle": "2024-10-01T22:32:47.822888Z",
     "shell.execute_reply": "2024-10-01T22:32:47.822888Z"
    }
   },
   "outputs": [
    {
     "name": "stdout",
     "output_type": "stream",
     "text": [
      "19052 19052\n"
     ]
    }
   ],
   "source": [
    "print(len(ts_hourly_data_2023), len(ts_hourly_data_2024))"
   ]
  },
  {
   "cell_type": "code",
   "execution_count": 9,
   "id": "68a802c0-5f46-4f17-86ae-54cee647ab33",
   "metadata": {
    "execution": {
     "iopub.execute_input": "2024-10-01T22:32:47.822888Z",
     "iopub.status.busy": "2024-10-01T22:32:47.822888Z",
     "iopub.status.idle": "2024-10-01T22:32:48.057263Z",
     "shell.execute_reply": "2024-10-01T22:32:48.057263Z"
    }
   },
   "outputs": [
    {
     "data": {
      "text/plain": [
       "(Timestamp('2023-09-14 23:00:00'), Timestamp('2024-10-01 19:00:00'))"
      ]
     },
     "execution_count": 9,
     "metadata": {},
     "output_type": "execute_result"
    }
   ],
   "source": [
    "ts_hourly_data_f.hour_of_entry.min(), ts_hourly_data.hour_of_entry.max()"
   ]
  },
  {
   "cell_type": "code",
   "execution_count": 10,
   "id": "bbfddd38-fc9c-43ef-a9bb-0d9f0daf9d85",
   "metadata": {
    "execution": {
     "iopub.execute_input": "2024-10-01T22:32:48.057263Z",
     "iopub.status.busy": "2024-10-01T22:32:48.057263Z",
     "iopub.status.idle": "2024-10-01T22:32:51.526208Z",
     "shell.execute_reply": "2024-10-01T22:32:51.526208Z"
    }
   },
   "outputs": [
    {
     "name": "stdout",
     "output_type": "stream",
     "text": [
      "Connected. Call `.close()` to terminate connection gracefully.\n"
     ]
    },
    {
     "name": "stdout",
     "output_type": "stream",
     "text": [
      "\n",
      "Logged in to project, explore it here https://c.app.hopsworks.ai:443/p/603286\n"
     ]
    },
    {
     "name": "stdout",
     "output_type": "stream",
     "text": [
      "Connected. Call `.close()` to terminate connection gracefully.\n"
     ]
    }
   ],
   "source": [
    "# connect to the project\n",
    "project = hopsworks.login(\n",
    "    project=cfg.HOPSWORKS_PROJECT_NAME,\n",
    "    api_key_value=cfg.HOPSWORKS_API_KEY\n",
    ")\n",
    "\n",
    "# connect to the feature store\n",
    "feature_store = project.get_feature_store()\n",
    "\n",
    "# connect to the feature group\n",
    "feature_group = feature_store.get_or_create_feature_group(\n",
    "    name=cfg.FEATURE_GROUP_NAME,\n",
    "    version=cfg.FEATURE_GROUP_VERSION,\n",
    "    description=\"Time-series data at hourly frequency for each line and station\",\n",
    "    primary_key = ['line', 'hour_of_entry', 'station'],\n",
    "    event_time='hour_of_entry',\n",
    ")"
   ]
  },
  {
   "cell_type": "code",
   "execution_count": 11,
   "id": "1e77c7d9-9abe-4b8a-8c95-3917c52e54b0",
   "metadata": {
    "execution": {
     "iopub.execute_input": "2024-10-01T22:32:51.526208Z",
     "iopub.status.busy": "2024-10-01T22:32:51.526208Z",
     "iopub.status.idle": "2024-10-01T22:35:16.249192Z",
     "shell.execute_reply": "2024-10-01T22:35:16.249192Z"
    }
   },
   "outputs": [
    {
     "data": {
      "application/vnd.jupyter.widget-view+json": {
       "model_id": "98e32f7f062548628c401020a12b0496",
       "version_major": 2,
       "version_minor": 0
      },
      "text/plain": [
       "Uploading Dataframe: 0.00% |          | Rows 0/38104 | Elapsed Time: 00:00 | Remaining Time: ?"
      ]
     },
     "metadata": {},
     "output_type": "display_data"
    },
    {
     "name": "stdout",
     "output_type": "stream",
     "text": [
      "Launching job: ts_stations_hourly_feature_group_1_offline_fg_materialization\n"
     ]
    },
    {
     "name": "stdout",
     "output_type": "stream",
     "text": [
      "Job started successfully, you can follow the progress at \n",
      "https://c.app.hopsworks.ai/p/603286/jobs/named/ts_stations_hourly_feature_group_1_offline_fg_materialization/executions\n"
     ]
    },
    {
     "data": {
      "text/plain": [
       "(<hsfs.core.job.Job at 0x21e3a742760>, None)"
      ]
     },
     "execution_count": 11,
     "metadata": {},
     "output_type": "execute_result"
    }
   ],
   "source": [
    "feature_group.insert(ts_hourly_data_f, write_options={\"wait_for_job\": True})"
   ]
  }
 ],
 "metadata": {
  "kernelspec": {
   "display_name": "Python 3 (ipykernel)",
   "language": "python",
   "name": "python3"
  },
  "language_info": {
   "codemirror_mode": {
    "name": "ipython",
    "version": 3
   },
   "file_extension": ".py",
   "mimetype": "text/x-python",
   "name": "python",
   "nbconvert_exporter": "python",
   "pygments_lexer": "ipython3",
   "version": "3.9.13"
  },
  "widgets": {
   "application/vnd.jupyter.widget-state+json": {
    "state": {
     "2b8de5b117754f40bb5186a48e13e1ee": {
      "model_module": "@jupyter-widgets/base",
      "model_module_version": "2.0.0",
      "model_name": "LayoutModel",
      "state": {
       "_model_module": "@jupyter-widgets/base",
       "_model_module_version": "2.0.0",
       "_model_name": "LayoutModel",
       "_view_count": null,
       "_view_module": "@jupyter-widgets/base",
       "_view_module_version": "2.0.0",
       "_view_name": "LayoutView",
       "align_content": null,
       "align_items": null,
       "align_self": null,
       "border_bottom": null,
       "border_left": null,
       "border_right": null,
       "border_top": null,
       "bottom": null,
       "display": null,
       "flex": null,
       "flex_flow": null,
       "grid_area": null,
       "grid_auto_columns": null,
       "grid_auto_flow": null,
       "grid_auto_rows": null,
       "grid_column": null,
       "grid_gap": null,
       "grid_row": null,
       "grid_template_areas": null,
       "grid_template_columns": null,
       "grid_template_rows": null,
       "height": null,
       "justify_content": null,
       "justify_items": null,
       "left": null,
       "margin": null,
       "max_height": null,
       "max_width": null,
       "min_height": null,
       "min_width": null,
       "object_fit": null,
       "object_position": null,
       "order": null,
       "overflow": null,
       "padding": null,
       "right": null,
       "top": null,
       "visibility": null,
       "width": null
      }
     },
     "3b7db716c8dc47af9d9982e74d0e012a": {
      "model_module": "@jupyter-widgets/base",
      "model_module_version": "2.0.0",
      "model_name": "LayoutModel",
      "state": {
       "_model_module": "@jupyter-widgets/base",
       "_model_module_version": "2.0.0",
       "_model_name": "LayoutModel",
       "_view_count": null,
       "_view_module": "@jupyter-widgets/base",
       "_view_module_version": "2.0.0",
       "_view_name": "LayoutView",
       "align_content": null,
       "align_items": null,
       "align_self": null,
       "border_bottom": null,
       "border_left": null,
       "border_right": null,
       "border_top": null,
       "bottom": null,
       "display": null,
       "flex": null,
       "flex_flow": null,
       "grid_area": null,
       "grid_auto_columns": null,
       "grid_auto_flow": null,
       "grid_auto_rows": null,
       "grid_column": null,
       "grid_gap": null,
       "grid_row": null,
       "grid_template_areas": null,
       "grid_template_columns": null,
       "grid_template_rows": null,
       "height": null,
       "justify_content": null,
       "justify_items": null,
       "left": null,
       "margin": null,
       "max_height": null,
       "max_width": null,
       "min_height": null,
       "min_width": null,
       "object_fit": null,
       "object_position": null,
       "order": null,
       "overflow": null,
       "padding": null,
       "right": null,
       "top": null,
       "visibility": null,
       "width": null
      }
     },
     "4213117059ef4c158277f624df441818": {
      "model_module": "@jupyter-widgets/controls",
      "model_module_version": "2.0.0",
      "model_name": "HTMLStyleModel",
      "state": {
       "_model_module": "@jupyter-widgets/controls",
       "_model_module_version": "2.0.0",
       "_model_name": "HTMLStyleModel",
       "_view_count": null,
       "_view_module": "@jupyter-widgets/base",
       "_view_module_version": "2.0.0",
       "_view_name": "StyleView",
       "background": null,
       "description_width": "",
       "font_size": null,
       "text_color": null
      }
     },
     "6ab213bf53c543499610ec32ca081298": {
      "model_module": "@jupyter-widgets/controls",
      "model_module_version": "2.0.0",
      "model_name": "HTMLStyleModel",
      "state": {
       "_model_module": "@jupyter-widgets/controls",
       "_model_module_version": "2.0.0",
       "_model_name": "HTMLStyleModel",
       "_view_count": null,
       "_view_module": "@jupyter-widgets/base",
       "_view_module_version": "2.0.0",
       "_view_name": "StyleView",
       "background": null,
       "description_width": "",
       "font_size": null,
       "text_color": null
      }
     },
     "8f5f6d3d4b804c97b896ac379cd529da": {
      "model_module": "@jupyter-widgets/base",
      "model_module_version": "2.0.0",
      "model_name": "LayoutModel",
      "state": {
       "_model_module": "@jupyter-widgets/base",
       "_model_module_version": "2.0.0",
       "_model_name": "LayoutModel",
       "_view_count": null,
       "_view_module": "@jupyter-widgets/base",
       "_view_module_version": "2.0.0",
       "_view_name": "LayoutView",
       "align_content": null,
       "align_items": null,
       "align_self": null,
       "border_bottom": null,
       "border_left": null,
       "border_right": null,
       "border_top": null,
       "bottom": null,
       "display": null,
       "flex": null,
       "flex_flow": null,
       "grid_area": null,
       "grid_auto_columns": null,
       "grid_auto_flow": null,
       "grid_auto_rows": null,
       "grid_column": null,
       "grid_gap": null,
       "grid_row": null,
       "grid_template_areas": null,
       "grid_template_columns": null,
       "grid_template_rows": null,
       "height": null,
       "justify_content": null,
       "justify_items": null,
       "left": null,
       "margin": null,
       "max_height": null,
       "max_width": null,
       "min_height": null,
       "min_width": null,
       "object_fit": null,
       "object_position": null,
       "order": null,
       "overflow": null,
       "padding": null,
       "right": null,
       "top": null,
       "visibility": null,
       "width": null
      }
     },
     "98e32f7f062548628c401020a12b0496": {
      "model_module": "@jupyter-widgets/controls",
      "model_module_version": "2.0.0",
      "model_name": "HBoxModel",
      "state": {
       "_dom_classes": [],
       "_model_module": "@jupyter-widgets/controls",
       "_model_module_version": "2.0.0",
       "_model_name": "HBoxModel",
       "_view_count": null,
       "_view_module": "@jupyter-widgets/controls",
       "_view_module_version": "2.0.0",
       "_view_name": "HBoxView",
       "box_style": "",
       "children": [
        "IPY_MODEL_ddad2f0d4da34032905dcb1d4ffe4697",
        "IPY_MODEL_abae9ea9d3724c81905d51a6207caa97",
        "IPY_MODEL_e6a7b1b3226f41498da00cef32a04603"
       ],
       "layout": "IPY_MODEL_8f5f6d3d4b804c97b896ac379cd529da",
       "tabbable": null,
       "tooltip": null
      }
     },
     "9cdbc770312c4706997def6b31e238b6": {
      "model_module": "@jupyter-widgets/base",
      "model_module_version": "2.0.0",
      "model_name": "LayoutModel",
      "state": {
       "_model_module": "@jupyter-widgets/base",
       "_model_module_version": "2.0.0",
       "_model_name": "LayoutModel",
       "_view_count": null,
       "_view_module": "@jupyter-widgets/base",
       "_view_module_version": "2.0.0",
       "_view_name": "LayoutView",
       "align_content": null,
       "align_items": null,
       "align_self": null,
       "border_bottom": null,
       "border_left": null,
       "border_right": null,
       "border_top": null,
       "bottom": null,
       "display": null,
       "flex": null,
       "flex_flow": null,
       "grid_area": null,
       "grid_auto_columns": null,
       "grid_auto_flow": null,
       "grid_auto_rows": null,
       "grid_column": null,
       "grid_gap": null,
       "grid_row": null,
       "grid_template_areas": null,
       "grid_template_columns": null,
       "grid_template_rows": null,
       "height": null,
       "justify_content": null,
       "justify_items": null,
       "left": null,
       "margin": null,
       "max_height": null,
       "max_width": null,
       "min_height": null,
       "min_width": null,
       "object_fit": null,
       "object_position": null,
       "order": null,
       "overflow": null,
       "padding": null,
       "right": null,
       "top": null,
       "visibility": null,
       "width": null
      }
     },
     "abae9ea9d3724c81905d51a6207caa97": {
      "model_module": "@jupyter-widgets/controls",
      "model_module_version": "2.0.0",
      "model_name": "FloatProgressModel",
      "state": {
       "_dom_classes": [],
       "_model_module": "@jupyter-widgets/controls",
       "_model_module_version": "2.0.0",
       "_model_name": "FloatProgressModel",
       "_view_count": null,
       "_view_module": "@jupyter-widgets/controls",
       "_view_module_version": "2.0.0",
       "_view_name": "ProgressView",
       "bar_style": "success",
       "description": "",
       "description_allow_html": false,
       "layout": "IPY_MODEL_9cdbc770312c4706997def6b31e238b6",
       "max": 38104.0,
       "min": 0.0,
       "orientation": "horizontal",
       "style": "IPY_MODEL_b33f1374eea8434db264603a8dd67afc",
       "tabbable": null,
       "tooltip": null,
       "value": 38104.0
      }
     },
     "b33f1374eea8434db264603a8dd67afc": {
      "model_module": "@jupyter-widgets/controls",
      "model_module_version": "2.0.0",
      "model_name": "ProgressStyleModel",
      "state": {
       "_model_module": "@jupyter-widgets/controls",
       "_model_module_version": "2.0.0",
       "_model_name": "ProgressStyleModel",
       "_view_count": null,
       "_view_module": "@jupyter-widgets/base",
       "_view_module_version": "2.0.0",
       "_view_name": "StyleView",
       "bar_color": null,
       "description_width": ""
      }
     },
     "ddad2f0d4da34032905dcb1d4ffe4697": {
      "model_module": "@jupyter-widgets/controls",
      "model_module_version": "2.0.0",
      "model_name": "HTMLModel",
      "state": {
       "_dom_classes": [],
       "_model_module": "@jupyter-widgets/controls",
       "_model_module_version": "2.0.0",
       "_model_name": "HTMLModel",
       "_view_count": null,
       "_view_module": "@jupyter-widgets/controls",
       "_view_module_version": "2.0.0",
       "_view_name": "HTMLView",
       "description": "",
       "description_allow_html": false,
       "layout": "IPY_MODEL_2b8de5b117754f40bb5186a48e13e1ee",
       "placeholder": "​",
       "style": "IPY_MODEL_6ab213bf53c543499610ec32ca081298",
       "tabbable": null,
       "tooltip": null,
       "value": "Uploading Dataframe: 100.00% "
      }
     },
     "e6a7b1b3226f41498da00cef32a04603": {
      "model_module": "@jupyter-widgets/controls",
      "model_module_version": "2.0.0",
      "model_name": "HTMLModel",
      "state": {
       "_dom_classes": [],
       "_model_module": "@jupyter-widgets/controls",
       "_model_module_version": "2.0.0",
       "_model_name": "HTMLModel",
       "_view_count": null,
       "_view_module": "@jupyter-widgets/controls",
       "_view_module_version": "2.0.0",
       "_view_name": "HTMLView",
       "description": "",
       "description_allow_html": false,
       "layout": "IPY_MODEL_3b7db716c8dc47af9d9982e74d0e012a",
       "placeholder": "​",
       "style": "IPY_MODEL_4213117059ef4c158277f624df441818",
       "tabbable": null,
       "tooltip": null,
       "value": " Rows 38104/38104 | Elapsed Time: 00:23 | Remaining Time: 00:00"
      }
     }
    },
    "version_major": 2,
    "version_minor": 0
   }
  }
 },
 "nbformat": 4,
 "nbformat_minor": 5
}
