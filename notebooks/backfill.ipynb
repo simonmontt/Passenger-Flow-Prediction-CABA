{
 "cells": [
  {
   "cell_type": "code",
   "execution_count": 11,
   "id": "c0041ee5-6485-4ca9-beec-b73c0e135803",
   "metadata": {},
   "outputs": [],
   "source": [
    "%reload_ext autoreload\n",
    "%autoreload 2"
   ]
  },
  {
   "cell_type": "code",
   "execution_count": 34,
   "id": "3c6f6240-71cf-4306-afac-c10e9fb912be",
   "metadata": {
    "scrolled": true
   },
   "outputs": [],
   "source": [
    "import hopsworks\n",
    "import pandas as pd\n",
    "import warnings # Mute warnings\n",
    "import os\n",
    "from dotenv import load_dotenv\n",
    "from src.paths import PARENT_DIR\n",
    "from src.data import fill_missing_datetimes, load_and_concatenate"
   ]
  },
  {
   "cell_type": "code",
   "execution_count": 2,
   "id": "d2a41269-54d3-4ff6-9b9a-356cc67d410b",
   "metadata": {},
   "outputs": [
    {
     "name": "stdout",
     "output_type": "stream",
     "text": [
      "3.7.0\n"
     ]
    }
   ],
   "source": [
    "warnings.filterwarnings(\"ignore\")\n",
    "print(hopsworks.__version__)"
   ]
  },
  {
   "cell_type": "code",
   "execution_count": 3,
   "id": "51607a32-bf3d-4fa2-b936-72cfff3774b7",
   "metadata": {},
   "outputs": [],
   "source": [
    "# load key-value pairs from .env file located in the parent directory\n",
    "load_dotenv(PARENT_DIR / '.env')\n",
    "HOPSWORKS_API_KEY = os.environ['HOPSWORKS_API_KEY']"
   ]
  },
  {
   "cell_type": "code",
   "execution_count": 26,
   "id": "7ac864d8-eec0-45b5-b317-e480c8b16a0d",
   "metadata": {},
   "outputs": [
    {
     "name": "stdout",
     "output_type": "stream",
     "text": [
      "C:\\Users\\PC\\Documents\\Proyect\\extracted_data\\Passenger-Flow-Prediction-CABA\\extracted_data\n"
     ]
    }
   ],
   "source": [
    "cd extracted_data/"
   ]
  },
  {
   "cell_type": "code",
   "execution_count": 35,
   "id": "3df05312-ae8d-4ed7-8ad6-ac6a1a4ecfaa",
   "metadata": {},
   "outputs": [
    {
     "data": {
      "text/html": [
       "<div>\n",
       "<style scoped>\n",
       "    .dataframe tbody tr th:only-of-type {\n",
       "        vertical-align: middle;\n",
       "    }\n",
       "\n",
       "    .dataframe tbody tr th {\n",
       "        vertical-align: top;\n",
       "    }\n",
       "\n",
       "    .dataframe thead th {\n",
       "        text-align: right;\n",
       "    }\n",
       "</style>\n",
       "<table border=\"1\" class=\"dataframe\">\n",
       "  <thead>\n",
       "    <tr style=\"text-align: right;\">\n",
       "      <th></th>\n",
       "      <th>line</th>\n",
       "      <th>station</th>\n",
       "      <th>hour_of_entry</th>\n",
       "      <th>total_pax</th>\n",
       "    </tr>\n",
       "  </thead>\n",
       "  <tbody>\n",
       "    <tr>\n",
       "      <th>0</th>\n",
       "      <td>LineaB</td>\n",
       "      <td>Leandro N. Alem</td>\n",
       "      <td>2023-01-01 08:00:00</td>\n",
       "      <td>34.0</td>\n",
       "    </tr>\n",
       "    <tr>\n",
       "      <th>1</th>\n",
       "      <td>LineaB</td>\n",
       "      <td>Leandro N. Alem</td>\n",
       "      <td>2023-01-01 09:00:00</td>\n",
       "      <td>34.0</td>\n",
       "    </tr>\n",
       "    <tr>\n",
       "      <th>2</th>\n",
       "      <td>LineaB</td>\n",
       "      <td>Leandro N. Alem</td>\n",
       "      <td>2023-01-01 10:00:00</td>\n",
       "      <td>59.0</td>\n",
       "    </tr>\n",
       "    <tr>\n",
       "      <th>3</th>\n",
       "      <td>LineaB</td>\n",
       "      <td>Leandro N. Alem</td>\n",
       "      <td>2023-01-01 11:00:00</td>\n",
       "      <td>41.0</td>\n",
       "    </tr>\n",
       "    <tr>\n",
       "      <th>4</th>\n",
       "      <td>LineaB</td>\n",
       "      <td>Leandro N. Alem</td>\n",
       "      <td>2023-01-01 12:00:00</td>\n",
       "      <td>67.0</td>\n",
       "    </tr>\n",
       "    <tr>\n",
       "      <th>...</th>\n",
       "      <td>...</td>\n",
       "      <td>...</td>\n",
       "      <td>...</td>\n",
       "      <td>...</td>\n",
       "    </tr>\n",
       "    <tr>\n",
       "      <th>401545</th>\n",
       "      <td>LineaC</td>\n",
       "      <td>Diagonal Norte</td>\n",
       "      <td>2024-05-31 19:00:00</td>\n",
       "      <td>153.0</td>\n",
       "    </tr>\n",
       "    <tr>\n",
       "      <th>401546</th>\n",
       "      <td>LineaC</td>\n",
       "      <td>Diagonal Norte</td>\n",
       "      <td>2024-05-31 20:00:00</td>\n",
       "      <td>199.0</td>\n",
       "    </tr>\n",
       "    <tr>\n",
       "      <th>401547</th>\n",
       "      <td>LineaC</td>\n",
       "      <td>Diagonal Norte</td>\n",
       "      <td>2024-05-31 21:00:00</td>\n",
       "      <td>127.0</td>\n",
       "    </tr>\n",
       "    <tr>\n",
       "      <th>401548</th>\n",
       "      <td>LineaC</td>\n",
       "      <td>Diagonal Norte</td>\n",
       "      <td>2024-05-31 22:00:00</td>\n",
       "      <td>83.0</td>\n",
       "    </tr>\n",
       "    <tr>\n",
       "      <th>401549</th>\n",
       "      <td>LineaC</td>\n",
       "      <td>Diagonal Norte</td>\n",
       "      <td>2024-05-31 23:00:00</td>\n",
       "      <td>6.0</td>\n",
       "    </tr>\n",
       "  </tbody>\n",
       "</table>\n",
       "<p>401550 rows × 4 columns</p>\n",
       "</div>"
      ],
      "text/plain": [
       "          line          station        hour_of_entry  total_pax\n",
       "0       LineaB  Leandro N. Alem  2023-01-01 08:00:00       34.0\n",
       "1       LineaB  Leandro N. Alem  2023-01-01 09:00:00       34.0\n",
       "2       LineaB  Leandro N. Alem  2023-01-01 10:00:00       59.0\n",
       "3       LineaB  Leandro N. Alem  2023-01-01 11:00:00       41.0\n",
       "4       LineaB  Leandro N. Alem  2023-01-01 12:00:00       67.0\n",
       "...        ...              ...                  ...        ...\n",
       "401545  LineaC   Diagonal Norte  2024-05-31 19:00:00      153.0\n",
       "401546  LineaC   Diagonal Norte  2024-05-31 20:00:00      199.0\n",
       "401547  LineaC   Diagonal Norte  2024-05-31 21:00:00      127.0\n",
       "401548  LineaC   Diagonal Norte  2024-05-31 22:00:00       83.0\n",
       "401549  LineaC   Diagonal Norte  2024-05-31 23:00:00        6.0\n",
       "\n",
       "[401550 rows x 4 columns]"
      ]
     },
     "execution_count": 35,
     "metadata": {},
     "output_type": "execute_result"
    }
   ],
   "source": [
    "ts_combined = load_and_concatenate(\"2023_total_pax.csv\", \"2024_total_pax.csv\")\n",
    "ts_combined"
   ]
  },
  {
   "cell_type": "code",
   "execution_count": 37,
   "id": "ccdc2dc6-0e5b-42d1-b820-7d64758d6ce5",
   "metadata": {},
   "outputs": [
    {
     "name": "stdout",
     "output_type": "stream",
     "text": [
      "['Acoyte' 'Carabobo' 'Congreso' 'Plaza de Mayo' 'Castro Barros'\n",
      " 'Primera Junta' 'Rio de Janeiro' 'Loria' 'San Pedrito' 'Flores'\n",
      " 'Plaza Miserere' 'Lima' 'Peru' 'Piedras' 'Alberti' 'Puan' 'Saenz Pena'\n",
      " 'Pasco']\n",
      "['Leandro N. Alem' 'Federico Lacroze' 'Pasteur' 'Dorrego' 'Malabia'\n",
      " 'Medrano' 'Florida' 'Callao' 'Pueyrredon' 'Rosas' 'Carlos Pellegrini'\n",
      " 'Uruguay' 'Carlos Gardel' 'Los Incas' 'Echeverria' 'Tronador'\n",
      " 'Angel Gallardo']\n",
      "['Constitucion' 'Retiro' 'Avenida de Mayo' 'Independencia'\n",
      " 'Mariano Moreno' 'General San Martin' 'Lavalle' 'San Juan'\n",
      " 'Diagonal Norte']\n"
     ]
    }
   ],
   "source": [
    "ts_combined['station'] = ts_combined['station'].replace({\n",
    "    'Saenz PeÃ±a ': 'Saenz Pena',\n",
    "    'Saenz PeÃ\\x83Â\\x83Ã\\x82Â±a ': 'Saenz Pena',\n",
    "    'Saenz PeÃ\\x83Â±a ': 'Saenz Pena',\n",
    "    'Callao.B' : 'Callao'\n",
    "})\n",
    "\n",
    "print(ts_combined[ts_combined['line'] == 'LineaA'].station.unique())\n",
    "print(ts_combined[ts_combined['line'] == 'LineaB'].station.unique())\n",
    "print(ts_combined[ts_combined['line'] == 'LineaC'].station.unique())"
   ]
  },
  {
   "cell_type": "code",
   "execution_count": 38,
   "id": "b27ed210-bf35-48ef-8af1-eb6ec84524d9",
   "metadata": {},
   "outputs": [
    {
     "data": {
      "text/plain": [
       "544430"
      ]
     },
     "execution_count": 38,
     "metadata": {},
     "output_type": "execute_result"
    }
   ],
   "source": [
    "ts_filled = fill_missing_datetimes(ts_combined)\n",
    "\n",
    "len(ts_filled)"
   ]
  },
  {
   "cell_type": "code",
   "execution_count": 39,
   "id": "cb195043-65ba-4b83-acbc-9f4b14601e2b",
   "metadata": {},
   "outputs": [],
   "source": [
    "ts_filled.to_csv('2324_together_total_pax.csv')"
   ]
  },
  {
   "cell_type": "code",
   "execution_count": 55,
   "id": "216706f7-7c1f-4636-a8b4-e8bf07ac6bf2",
   "metadata": {},
   "outputs": [
    {
     "data": {
      "text/html": [
       "<div>\n",
       "<style scoped>\n",
       "    .dataframe tbody tr th:only-of-type {\n",
       "        vertical-align: middle;\n",
       "    }\n",
       "\n",
       "    .dataframe tbody tr th {\n",
       "        vertical-align: top;\n",
       "    }\n",
       "\n",
       "    .dataframe thead th {\n",
       "        text-align: right;\n",
       "    }\n",
       "</style>\n",
       "<table border=\"1\" class=\"dataframe\">\n",
       "  <thead>\n",
       "    <tr style=\"text-align: right;\">\n",
       "      <th></th>\n",
       "      <th>hour_of_entry</th>\n",
       "      <th>line</th>\n",
       "      <th>station</th>\n",
       "      <th>total_pax</th>\n",
       "    </tr>\n",
       "  </thead>\n",
       "  <tbody>\n",
       "    <tr>\n",
       "      <th>0</th>\n",
       "      <td>2023-01-01 08:00:00</td>\n",
       "      <td>LineaA</td>\n",
       "      <td>Acoyte</td>\n",
       "      <td>22.0</td>\n",
       "    </tr>\n",
       "    <tr>\n",
       "      <th>1</th>\n",
       "      <td>2023-01-01 09:00:00</td>\n",
       "      <td>LineaA</td>\n",
       "      <td>Acoyte</td>\n",
       "      <td>23.0</td>\n",
       "    </tr>\n",
       "    <tr>\n",
       "      <th>2</th>\n",
       "      <td>2023-01-01 10:00:00</td>\n",
       "      <td>LineaA</td>\n",
       "      <td>Acoyte</td>\n",
       "      <td>40.0</td>\n",
       "    </tr>\n",
       "    <tr>\n",
       "      <th>3</th>\n",
       "      <td>2023-01-01 11:00:00</td>\n",
       "      <td>LineaA</td>\n",
       "      <td>Acoyte</td>\n",
       "      <td>17.0</td>\n",
       "    </tr>\n",
       "    <tr>\n",
       "      <th>4</th>\n",
       "      <td>2023-01-01 12:00:00</td>\n",
       "      <td>LineaA</td>\n",
       "      <td>Acoyte</td>\n",
       "      <td>83.0</td>\n",
       "    </tr>\n",
       "    <tr>\n",
       "      <th>...</th>\n",
       "      <td>...</td>\n",
       "      <td>...</td>\n",
       "      <td>...</td>\n",
       "      <td>...</td>\n",
       "    </tr>\n",
       "    <tr>\n",
       "      <th>544425</th>\n",
       "      <td>2024-05-31 19:00:00</td>\n",
       "      <td>LineaC</td>\n",
       "      <td>San Juan</td>\n",
       "      <td>199.0</td>\n",
       "    </tr>\n",
       "    <tr>\n",
       "      <th>544426</th>\n",
       "      <td>2024-05-31 20:00:00</td>\n",
       "      <td>LineaC</td>\n",
       "      <td>San Juan</td>\n",
       "      <td>208.0</td>\n",
       "    </tr>\n",
       "    <tr>\n",
       "      <th>544427</th>\n",
       "      <td>2024-05-31 21:00:00</td>\n",
       "      <td>LineaC</td>\n",
       "      <td>San Juan</td>\n",
       "      <td>161.0</td>\n",
       "    </tr>\n",
       "    <tr>\n",
       "      <th>544428</th>\n",
       "      <td>2024-05-31 22:00:00</td>\n",
       "      <td>LineaC</td>\n",
       "      <td>San Juan</td>\n",
       "      <td>253.0</td>\n",
       "    </tr>\n",
       "    <tr>\n",
       "      <th>544429</th>\n",
       "      <td>2024-05-31 23:00:00</td>\n",
       "      <td>LineaC</td>\n",
       "      <td>San Juan</td>\n",
       "      <td>23.0</td>\n",
       "    </tr>\n",
       "  </tbody>\n",
       "</table>\n",
       "<p>544430 rows × 4 columns</p>\n",
       "</div>"
      ],
      "text/plain": [
       "             hour_of_entry    line   station  total_pax\n",
       "0      2023-01-01 08:00:00  LineaA    Acoyte       22.0\n",
       "1      2023-01-01 09:00:00  LineaA    Acoyte       23.0\n",
       "2      2023-01-01 10:00:00  LineaA    Acoyte       40.0\n",
       "3      2023-01-01 11:00:00  LineaA    Acoyte       17.0\n",
       "4      2023-01-01 12:00:00  LineaA    Acoyte       83.0\n",
       "...                    ...     ...       ...        ...\n",
       "544425 2024-05-31 19:00:00  LineaC  San Juan      199.0\n",
       "544426 2024-05-31 20:00:00  LineaC  San Juan      208.0\n",
       "544427 2024-05-31 21:00:00  LineaC  San Juan      161.0\n",
       "544428 2024-05-31 22:00:00  LineaC  San Juan      253.0\n",
       "544429 2024-05-31 23:00:00  LineaC  San Juan       23.0\n",
       "\n",
       "[544430 rows x 4 columns]"
      ]
     },
     "execution_count": 55,
     "metadata": {},
     "output_type": "execute_result"
    }
   ],
   "source": [
    "ts_filled"
   ]
  },
  {
   "cell_type": "code",
   "execution_count": 41,
   "id": "2347f5a9-f953-4351-aac1-a38007a11a53",
   "metadata": {},
   "outputs": [],
   "source": [
    "HOPSWORKS_PROJECT_NAME = 'mlops_rm'"
   ]
  },
  {
   "cell_type": "code",
   "execution_count": 42,
   "id": "bbd351b0-470b-4831-81f3-6595f89c9259",
   "metadata": {},
   "outputs": [
    {
     "name": "stdout",
     "output_type": "stream",
     "text": [
      "Connection closed.\n",
      "Connected. Call `.close()` to terminate connection gracefully.\n",
      "\n",
      "Logged in to project, explore it here https://c.app.hopsworks.ai:443/p/603286\n"
     ]
    }
   ],
   "source": [
    "project = hopsworks.login(\n",
    "    project=HOPSWORKS_PROJECT_NAME,\n",
    "    api_key_value=HOPSWORKS_API_KEY\n",
    ")"
   ]
  },
  {
   "cell_type": "code",
   "execution_count": 43,
   "id": "d6af6003-171a-4530-ae57-7ee983adb540",
   "metadata": {},
   "outputs": [
    {
     "name": "stdout",
     "output_type": "stream",
     "text": [
      "Connected. Call `.close()` to terminate connection gracefully.\n"
     ]
    }
   ],
   "source": [
    "feature_store = project.get_feature_store()"
   ]
  },
  {
   "cell_type": "code",
   "execution_count": 52,
   "id": "20732f11-ab1a-4e9f-b9e6-6f98a01589e3",
   "metadata": {},
   "outputs": [],
   "source": [
    "FEATURE_GROUP_NAME = 'ts_stations_hourly_feature_group'\n",
    "FEATURE_GROUP_VERSION = 1"
   ]
  },
  {
   "cell_type": "code",
   "execution_count": 53,
   "id": "f5574da8-1c1c-4188-8adc-5cf9c203f7fc",
   "metadata": {},
   "outputs": [],
   "source": [
    "feature_group = feature_store.get_or_create_feature_group(\n",
    "    name=FEATURE_GROUP_NAME,\n",
    "    version=FEATURE_GROUP_VERSION,\n",
    "    description=\"Time-series data at hourly frequency for each line and station\",\n",
    "    primary_key = ['line', 'hour_of_entry', 'station'],\n",
    "    event_time='hour_of_entry',\n",
    ")"
   ]
  },
  {
   "cell_type": "code",
   "execution_count": 54,
   "id": "f21df794-ee64-40d6-8925-fd06e505f564",
   "metadata": {},
   "outputs": [
    {
     "name": "stdout",
     "output_type": "stream",
     "text": [
      "Feature Group created successfully, explore it at \n",
      "https://c.app.hopsworks.ai:443/p/603286/fs/599109/fg/1201489\n"
     ]
    },
    {
     "data": {
      "application/vnd.jupyter.widget-view+json": {
       "model_id": "8c65ded06bbf47e58b34bf1f95531214",
       "version_major": 2,
       "version_minor": 0
      },
      "text/plain": [
       "Uploading Dataframe: 0.00% |          | Rows 0/544430 | Elapsed Time: 00:00 | Remaining Time: ?"
      ]
     },
     "metadata": {},
     "output_type": "display_data"
    },
    {
     "name": "stdout",
     "output_type": "stream",
     "text": [
      "Launching job: ts_stations_hourly_feature_group_1_offline_fg_materialization\n",
      "Job started successfully, you can follow the progress at \n",
      "https://c.app.hopsworks.ai/p/603286/jobs/named/ts_stations_hourly_feature_group_1_offline_fg_materialization/executions\n"
     ]
    },
    {
     "data": {
      "text/plain": [
       "(<hsfs.core.job.Job at 0x2cd8c7ebd50>, None)"
      ]
     },
     "execution_count": 54,
     "metadata": {},
     "output_type": "execute_result"
    }
   ],
   "source": [
    "feature_group.insert(ts_filled, write_options={\"wait_for_job\": False})"
   ]
  }
 ],
 "metadata": {
  "kernelspec": {
   "display_name": "Python 3 (ipykernel)",
   "language": "python",
   "name": "python3"
  },
  "language_info": {
   "codemirror_mode": {
    "name": "ipython",
    "version": 3
   },
   "file_extension": ".py",
   "mimetype": "text/x-python",
   "name": "python",
   "nbconvert_exporter": "python",
   "pygments_lexer": "ipython3",
   "version": "3.11.5"
  }
 },
 "nbformat": 4,
 "nbformat_minor": 5
}
