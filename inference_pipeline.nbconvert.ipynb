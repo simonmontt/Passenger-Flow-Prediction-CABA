{
 "cells": [
  {
   "cell_type": "code",
   "execution_count": 1,
   "id": "4e1e65d6-3280-4f4a-91af-7f22d770f983",
   "metadata": {
    "execution": {
     "iopub.execute_input": "2024-10-01T23:17:50.831386Z",
     "iopub.status.busy": "2024-10-01T23:17:50.831386Z",
     "iopub.status.idle": "2024-10-01T23:17:50.917319Z",
     "shell.execute_reply": "2024-10-01T23:17:50.914961Z"
    }
   },
   "outputs": [],
   "source": [
    "%load_ext autoreload\n",
    "%autoreload 2"
   ]
  },
  {
   "cell_type": "code",
   "execution_count": 2,
   "id": "662e6692-8594-4e34-8193-d85468355cd9",
   "metadata": {
    "execution": {
     "iopub.execute_input": "2024-10-01T23:17:50.921320Z",
     "iopub.status.busy": "2024-10-01T23:17:50.921320Z",
     "iopub.status.idle": "2024-10-01T23:17:52.881279Z",
     "shell.execute_reply": "2024-10-01T23:17:52.879467Z"
    }
   },
   "outputs": [
    {
     "data": {
      "text/plain": [
       "Timestamp('2024-10-01 20:00:00')"
      ]
     },
     "execution_count": 2,
     "metadata": {},
     "output_type": "execute_result"
    }
   ],
   "source": [
    "import pytz\n",
    "from datetime import datetime, timedelta, date\n",
    "import pandas as pd\n",
    "from sklearn.preprocessing import LabelEncoder\n",
    "\n",
    "\n",
    "# Define Argentina's timezone (GMT-3)\n",
    "argentina_tz = pytz.timezone('America/Argentina/Buenos_Aires')\n",
    "\n",
    "# Get the current date and time in Argentina\n",
    "current_time_in_argentina = datetime.now(argentina_tz).replace(minute=0, second=0, microsecond=0).strftime('%Y-%m-%d %H:%M:%S')\n",
    "# Round down (floor) to the nearest hour by setting minutes, seconds, and microseconds to 0\n",
    "current_date = pd.to_datetime(current_time_in_argentina)\n",
    "current_date"
   ]
  },
  {
   "cell_type": "code",
   "execution_count": 3,
   "id": "20b0c41b-2edd-481a-a587-b41073c85c6f",
   "metadata": {
    "execution": {
     "iopub.execute_input": "2024-10-01T23:17:52.881279Z",
     "iopub.status.busy": "2024-10-01T23:17:52.881279Z",
     "iopub.status.idle": "2024-10-01T23:18:06.730302Z",
     "shell.execute_reply": "2024-10-01T23:18:06.728547Z"
    }
   },
   "outputs": [
    {
     "name": "stdout",
     "output_type": "stream",
     "text": [
      "Connected. Call `.close()` to terminate connection gracefully.\n"
     ]
    },
    {
     "name": "stdout",
     "output_type": "stream",
     "text": [
      "\n",
      "Logged in to project, explore it here https://c.app.hopsworks.ai:443/p/603286\n"
     ]
    },
    {
     "name": "stdout",
     "output_type": "stream",
     "text": [
      "Connected. Call `.close()` to terminate connection gracefully.\n"
     ]
    },
    {
     "name": "stdout",
     "output_type": "stream",
     "text": [
      "Fetching data from 2024-09-17 20:00:00+00:00 to 2024-10-01 19:00:00+00:00\n"
     ]
    },
    {
     "name": "stdout",
     "output_type": "stream",
     "text": [
      "Reading data from Hopsworks, using Hopsworks Feature Query Service.   \r"
     ]
    },
    {
     "name": "stdout",
     "output_type": "stream",
     "text": [
      "Reading data from Hopsworks, using Hopsworks Feature Query Service..   \r"
     ]
    },
    {
     "name": "stdout",
     "output_type": "stream",
     "text": [
      "Reading data from Hopsworks, using Hopsworks Feature Query Service...   \r"
     ]
    },
    {
     "name": "stdout",
     "output_type": "stream",
     "text": [
      "Reading data from Hopsworks, using Hopsworks Feature Query Service   \r"
     ]
    },
    {
     "name": "stdout",
     "output_type": "stream",
     "text": [
      "Reading data from Hopsworks, using Hopsworks Feature Query Service.   \r"
     ]
    },
    {
     "name": "stdout",
     "output_type": "stream",
     "text": [
      "Reading data from Hopsworks, using Hopsworks Feature Query Service..   \r"
     ]
    },
    {
     "name": "stdout",
     "output_type": "stream",
     "text": [
      "\r",
      "Finished: Reading data from Hopsworks, using Hopsworks Feature Query Service (2.70s) \n"
     ]
    }
   ],
   "source": [
    "from src.inferencesm import load_batch_of_features_from_store\n",
    "\n",
    "features = load_batch_of_features_from_store(current_date)\n",
    "\n",
    "# Create a label encoder object\n",
    "label_encoder = LabelEncoder()\n",
    "\n",
    "# Apply label encoding to 'line' and 'station'\n",
    "features['line'] = label_encoder.fit_transform(features['line'])\n",
    "features['station'] = label_encoder.fit_transform(features['station'])"
   ]
  },
  {
   "cell_type": "code",
   "execution_count": 4,
   "id": "f8012637-a217-413b-9d40-8159768eca09",
   "metadata": {
    "execution": {
     "iopub.execute_input": "2024-10-01T23:18:06.730302Z",
     "iopub.status.busy": "2024-10-01T23:18:06.730302Z",
     "iopub.status.idle": "2024-10-01T23:18:12.564638Z",
     "shell.execute_reply": "2024-10-01T23:18:12.561958Z"
    }
   },
   "outputs": [
    {
     "name": "stdout",
     "output_type": "stream",
     "text": [
      "2024-10-01 20:18:07,108 WARNING: DeprecationWarning: pkg_resources is deprecated as an API. See https://setuptools.pypa.io/en/latest/pkg_resources.html\n",
      "\n"
     ]
    },
    {
     "name": "stdout",
     "output_type": "stream",
     "text": [
      "2024-10-01 20:18:07,202 WARNING: DeprecationWarning: Deprecated call to `pkg_resources.declare_namespace('ruamel')`.\n",
      "Implementing implicit namespace packages (as specified in PEP 420) is preferred to `pkg_resources.declare_namespace`. See https://setuptools.pypa.io/en/latest/references/keywords.html#keyword-namespace-packages\n",
      "\n"
     ]
    },
    {
     "name": "stdout",
     "output_type": "stream",
     "text": [
      "2024-10-01 20:18:08,504 WARNING: SentryHubDeprecationWarning: `sentry_sdk.Hub` is deprecated and will be removed in a future major release. Please consult our 1.x to 2.x migration guide for details on how to migrate `Hub` usage to the new API: https://docs.sentry.io/platforms/python/migration/1.x-to-2.x\n",
      "\n"
     ]
    },
    {
     "name": "stdout",
     "output_type": "stream",
     "text": [
      "2024-10-01 20:18:08,516 WARNING: DeprecationWarning: Using 'method_whitelist' with Retry is deprecated and will be removed in v2.0. Use 'allowed_methods' instead\n",
      "\n"
     ]
    },
    {
     "name": "stderr",
     "output_type": "stream",
     "text": [
      "\u001b[1;38;5;214mCOMET WARNING:\u001b[0m This method has been deprecated, we recommend using the api.get_model(...) method to get the Model Object and then using model.download(...)\n"
     ]
    },
    {
     "name": "stderr",
     "output_type": "stream",
     "text": [
      "\u001b[1;38;5;39mCOMET INFO:\u001b[0m Downloading registry model 'subwayBA_passenger_flow_updt', version '1.1.0', stage None from workspace 'simonmontt'...\n"
     ]
    },
    {
     "name": "stderr",
     "output_type": "stream",
     "text": [
      "\u001b[1;38;5;39mCOMET INFO:\u001b[0m Unzipping model to 'C:\\\\Users\\\\PC\\\\Documents\\\\Proyect\\\\passenger_flow_predictor\\\\models' ...\n"
     ]
    },
    {
     "name": "stderr",
     "output_type": "stream",
     "text": [
      "\u001b[1;38;5;39mCOMET INFO:\u001b[0m done!\n"
     ]
    },
    {
     "name": "stdout",
     "output_type": "stream",
     "text": [
      "2024-10-01 20:18:12,062 WARNING: DeprecationWarning: CountryHoliday is deprecated, use country_holidays instead.\n",
      "\n"
     ]
    },
    {
     "name": "stdout",
     "output_type": "stream",
     "text": [
      "2024-10-01 20:18:12,245 WARNING: InconsistentVersionWarning: Trying to unpickle estimator FunctionTransformer from version 1.2.2 when using version 1.5.2. This might lead to breaking code or invalid results. Use at your own risk. For more info please refer to:\n",
      "https://scikit-learn.org/stable/model_persistence.html#security-maintainability-limitations\n",
      "\n"
     ]
    },
    {
     "name": "stdout",
     "output_type": "stream",
     "text": [
      "2024-10-01 20:18:12,271 WARNING: InconsistentVersionWarning: Trying to unpickle estimator MultiOutputRegressor from version 1.2.2 when using version 1.5.2. This might lead to breaking code or invalid results. Use at your own risk. For more info please refer to:\n",
      "https://scikit-learn.org/stable/model_persistence.html#security-maintainability-limitations\n",
      "\n"
     ]
    },
    {
     "name": "stdout",
     "output_type": "stream",
     "text": [
      "2024-10-01 20:18:12,273 WARNING: InconsistentVersionWarning: Trying to unpickle estimator Pipeline from version 1.2.2 when using version 1.5.2. This might lead to breaking code or invalid results. Use at your own risk. For more info please refer to:\n",
      "https://scikit-learn.org/stable/model_persistence.html#security-maintainability-limitations\n",
      "\n"
     ]
    },
    {
     "name": "stdout",
     "output_type": "stream",
     "text": [
      "[LightGBM] [Warning] feature_fraction is set=0.3414660191010661, colsample_bytree=1.0 will be ignored. Current value: feature_fraction=0.3414660191010661\n",
      "[LightGBM] [Warning] bagging_fraction is set=0.3316660761155541, subsample=1.0 will be ignored. Current value: bagging_fraction=0.3316660761155541\n"
     ]
    },
    {
     "name": "stdout",
     "output_type": "stream",
     "text": [
      "[LightGBM] [Warning] feature_fraction is set=0.3414660191010661, colsample_bytree=1.0 will be ignored. Current value: feature_fraction=0.3414660191010661\n",
      "[LightGBM] [Warning] bagging_fraction is set=0.3316660761155541, subsample=1.0 will be ignored. Current value: bagging_fraction=0.3316660761155541\n",
      "[LightGBM] [Warning] feature_fraction is set=0.3414660191010661, colsample_bytree=1.0 will be ignored. Current value: feature_fraction=0.3414660191010661\n",
      "[LightGBM] [Warning] bagging_fraction is set=0.3316660761155541, subsample=1.0 will be ignored. Current value: bagging_fraction=0.3316660761155541\n"
     ]
    }
   ],
   "source": [
    "from src.model_registry import get_latest_model_from_registry\n",
    "from src.inferencesm import get_model_predictions\n",
    "\n",
    "model = get_latest_model_from_registry(model_name='subwayBA_passenger_flow_updt', status= 'Production')\n",
    "predictions = get_model_predictions(model, features)"
   ]
  },
  {
   "cell_type": "code",
   "execution_count": 5,
   "id": "f688a96c-c868-452d-82e5-dcc11d673081",
   "metadata": {
    "execution": {
     "iopub.execute_input": "2024-10-01T23:18:12.570639Z",
     "iopub.status.busy": "2024-10-01T23:18:12.569654Z",
     "iopub.status.idle": "2024-10-01T23:18:12.829737Z",
     "shell.execute_reply": "2024-10-01T23:18:12.828565Z"
    }
   },
   "outputs": [
    {
     "data": {
      "text/html": [
       "<div>\n",
       "<style scoped>\n",
       "    .dataframe tbody tr th:only-of-type {\n",
       "        vertical-align: middle;\n",
       "    }\n",
       "\n",
       "    .dataframe tbody tr th {\n",
       "        vertical-align: top;\n",
       "    }\n",
       "\n",
       "    .dataframe thead th {\n",
       "        text-align: right;\n",
       "    }\n",
       "</style>\n",
       "<table border=\"1\" class=\"dataframe\">\n",
       "  <thead>\n",
       "    <tr style=\"text-align: right;\">\n",
       "      <th></th>\n",
       "      <th>total_pax_next_1_hour</th>\n",
       "      <th>total_pax_next_2_hour</th>\n",
       "      <th>total_pax_next_3_hour</th>\n",
       "      <th>station</th>\n",
       "      <th>line</th>\n",
       "      <th>hour_of_entry</th>\n",
       "    </tr>\n",
       "  </thead>\n",
       "  <tbody>\n",
       "    <tr>\n",
       "      <th>0</th>\n",
       "      <td>324.0</td>\n",
       "      <td>136.0</td>\n",
       "      <td>103.0</td>\n",
       "      <td>0</td>\n",
       "      <td>0</td>\n",
       "      <td>2024-10-01 20:00:00</td>\n",
       "    </tr>\n",
       "    <tr>\n",
       "      <th>1</th>\n",
       "      <td>81.0</td>\n",
       "      <td>40.0</td>\n",
       "      <td>32.0</td>\n",
       "      <td>1</td>\n",
       "      <td>0</td>\n",
       "      <td>2024-10-01 20:00:00</td>\n",
       "    </tr>\n",
       "    <tr>\n",
       "      <th>2</th>\n",
       "      <td>368.0</td>\n",
       "      <td>190.0</td>\n",
       "      <td>117.0</td>\n",
       "      <td>2</td>\n",
       "      <td>1</td>\n",
       "      <td>2024-10-01 20:00:00</td>\n",
       "    </tr>\n",
       "    <tr>\n",
       "      <th>3</th>\n",
       "      <td>141.0</td>\n",
       "      <td>62.0</td>\n",
       "      <td>29.0</td>\n",
       "      <td>3</td>\n",
       "      <td>2</td>\n",
       "      <td>2024-10-01 20:00:00</td>\n",
       "    </tr>\n",
       "    <tr>\n",
       "      <th>4</th>\n",
       "      <td>271.0</td>\n",
       "      <td>154.0</td>\n",
       "      <td>201.0</td>\n",
       "      <td>4</td>\n",
       "      <td>1</td>\n",
       "      <td>2024-10-01 20:00:00</td>\n",
       "    </tr>\n",
       "    <tr>\n",
       "      <th>5</th>\n",
       "      <td>172.0</td>\n",
       "      <td>64.0</td>\n",
       "      <td>41.0</td>\n",
       "      <td>5</td>\n",
       "      <td>0</td>\n",
       "      <td>2024-10-01 20:00:00</td>\n",
       "    </tr>\n",
       "    <tr>\n",
       "      <th>6</th>\n",
       "      <td>1041.0</td>\n",
       "      <td>441.0</td>\n",
       "      <td>610.0</td>\n",
       "      <td>6</td>\n",
       "      <td>1</td>\n",
       "      <td>2024-10-01 20:00:00</td>\n",
       "    </tr>\n",
       "    <tr>\n",
       "      <th>7</th>\n",
       "      <td>763.0</td>\n",
       "      <td>409.0</td>\n",
       "      <td>559.0</td>\n",
       "      <td>7</td>\n",
       "      <td>1</td>\n",
       "      <td>2024-10-01 20:00:00</td>\n",
       "    </tr>\n",
       "    <tr>\n",
       "      <th>8</th>\n",
       "      <td>208.0</td>\n",
       "      <td>85.0</td>\n",
       "      <td>74.0</td>\n",
       "      <td>8</td>\n",
       "      <td>0</td>\n",
       "      <td>2024-10-01 20:00:00</td>\n",
       "    </tr>\n",
       "    <tr>\n",
       "      <th>9</th>\n",
       "      <td>279.0</td>\n",
       "      <td>156.0</td>\n",
       "      <td>119.0</td>\n",
       "      <td>9</td>\n",
       "      <td>0</td>\n",
       "      <td>2024-10-01 20:00:00</td>\n",
       "    </tr>\n",
       "    <tr>\n",
       "      <th>10</th>\n",
       "      <td>1262.0</td>\n",
       "      <td>465.0</td>\n",
       "      <td>472.0</td>\n",
       "      <td>10</td>\n",
       "      <td>2</td>\n",
       "      <td>2024-10-01 20:00:00</td>\n",
       "    </tr>\n",
       "    <tr>\n",
       "      <th>11</th>\n",
       "      <td>63.0</td>\n",
       "      <td>45.0</td>\n",
       "      <td>30.0</td>\n",
       "      <td>11</td>\n",
       "      <td>2</td>\n",
       "      <td>2024-10-01 20:00:00</td>\n",
       "    </tr>\n",
       "    <tr>\n",
       "      <th>12</th>\n",
       "      <td>249.0</td>\n",
       "      <td>133.0</td>\n",
       "      <td>97.0</td>\n",
       "      <td>12</td>\n",
       "      <td>1</td>\n",
       "      <td>2024-10-01 20:00:00</td>\n",
       "    </tr>\n",
       "    <tr>\n",
       "      <th>13</th>\n",
       "      <td>106.0</td>\n",
       "      <td>35.0</td>\n",
       "      <td>32.0</td>\n",
       "      <td>13</td>\n",
       "      <td>1</td>\n",
       "      <td>2024-10-01 20:00:00</td>\n",
       "    </tr>\n",
       "    <tr>\n",
       "      <th>14</th>\n",
       "      <td>515.0</td>\n",
       "      <td>261.0</td>\n",
       "      <td>176.0</td>\n",
       "      <td>14</td>\n",
       "      <td>1</td>\n",
       "      <td>2024-10-01 20:00:00</td>\n",
       "    </tr>\n",
       "    <tr>\n",
       "      <th>15</th>\n",
       "      <td>170.0</td>\n",
       "      <td>79.0</td>\n",
       "      <td>36.0</td>\n",
       "      <td>15</td>\n",
       "      <td>0</td>\n",
       "      <td>2024-10-01 20:00:00</td>\n",
       "    </tr>\n",
       "    <tr>\n",
       "      <th>16</th>\n",
       "      <td>209.0</td>\n",
       "      <td>117.0</td>\n",
       "      <td>57.0</td>\n",
       "      <td>16</td>\n",
       "      <td>1</td>\n",
       "      <td>2024-10-01 20:00:00</td>\n",
       "    </tr>\n",
       "    <tr>\n",
       "      <th>17</th>\n",
       "      <td>66.0</td>\n",
       "      <td>31.0</td>\n",
       "      <td>23.0</td>\n",
       "      <td>17</td>\n",
       "      <td>2</td>\n",
       "      <td>2024-10-01 20:00:00</td>\n",
       "    </tr>\n",
       "    <tr>\n",
       "      <th>18</th>\n",
       "      <td>207.0</td>\n",
       "      <td>100.0</td>\n",
       "      <td>84.0</td>\n",
       "      <td>18</td>\n",
       "      <td>2</td>\n",
       "      <td>2024-10-01 20:00:00</td>\n",
       "    </tr>\n",
       "    <tr>\n",
       "      <th>19</th>\n",
       "      <td>86.0</td>\n",
       "      <td>63.0</td>\n",
       "      <td>28.0</td>\n",
       "      <td>19</td>\n",
       "      <td>2</td>\n",
       "      <td>2024-10-01 20:00:00</td>\n",
       "    </tr>\n",
       "    <tr>\n",
       "      <th>20</th>\n",
       "      <td>504.0</td>\n",
       "      <td>192.0</td>\n",
       "      <td>183.0</td>\n",
       "      <td>20</td>\n",
       "      <td>1</td>\n",
       "      <td>2024-10-01 20:00:00</td>\n",
       "    </tr>\n",
       "    <tr>\n",
       "      <th>21</th>\n",
       "      <td>201.0</td>\n",
       "      <td>115.0</td>\n",
       "      <td>102.0</td>\n",
       "      <td>21</td>\n",
       "      <td>0</td>\n",
       "      <td>2024-10-01 20:00:00</td>\n",
       "    </tr>\n",
       "    <tr>\n",
       "      <th>22</th>\n",
       "      <td>201.0</td>\n",
       "      <td>91.0</td>\n",
       "      <td>70.0</td>\n",
       "      <td>22</td>\n",
       "      <td>0</td>\n",
       "      <td>2024-10-01 20:00:00</td>\n",
       "    </tr>\n",
       "    <tr>\n",
       "      <th>23</th>\n",
       "      <td>181.0</td>\n",
       "      <td>83.0</td>\n",
       "      <td>39.0</td>\n",
       "      <td>23</td>\n",
       "      <td>1</td>\n",
       "      <td>2024-10-01 20:00:00</td>\n",
       "    </tr>\n",
       "    <tr>\n",
       "      <th>24</th>\n",
       "      <td>370.0</td>\n",
       "      <td>199.0</td>\n",
       "      <td>163.0</td>\n",
       "      <td>24</td>\n",
       "      <td>1</td>\n",
       "      <td>2024-10-01 20:00:00</td>\n",
       "    </tr>\n",
       "    <tr>\n",
       "      <th>25</th>\n",
       "      <td>58.0</td>\n",
       "      <td>38.0</td>\n",
       "      <td>28.0</td>\n",
       "      <td>25</td>\n",
       "      <td>2</td>\n",
       "      <td>2024-10-01 20:00:00</td>\n",
       "    </tr>\n",
       "    <tr>\n",
       "      <th>26</th>\n",
       "      <td>354.0</td>\n",
       "      <td>158.0</td>\n",
       "      <td>159.0</td>\n",
       "      <td>26</td>\n",
       "      <td>1</td>\n",
       "      <td>2024-10-01 20:00:00</td>\n",
       "    </tr>\n",
       "    <tr>\n",
       "      <th>27</th>\n",
       "      <td>47.0</td>\n",
       "      <td>18.0</td>\n",
       "      <td>12.0</td>\n",
       "      <td>27</td>\n",
       "      <td>0</td>\n",
       "      <td>2024-10-01 20:00:00</td>\n",
       "    </tr>\n",
       "    <tr>\n",
       "      <th>28</th>\n",
       "      <td>103.0</td>\n",
       "      <td>69.0</td>\n",
       "      <td>30.0</td>\n",
       "      <td>28</td>\n",
       "      <td>1</td>\n",
       "      <td>2024-10-01 20:00:00</td>\n",
       "    </tr>\n",
       "    <tr>\n",
       "      <th>29</th>\n",
       "      <td>191.0</td>\n",
       "      <td>74.0</td>\n",
       "      <td>36.0</td>\n",
       "      <td>29</td>\n",
       "      <td>0</td>\n",
       "      <td>2024-10-01 20:00:00</td>\n",
       "    </tr>\n",
       "    <tr>\n",
       "      <th>30</th>\n",
       "      <td>92.0</td>\n",
       "      <td>49.0</td>\n",
       "      <td>40.0</td>\n",
       "      <td>30</td>\n",
       "      <td>0</td>\n",
       "      <td>2024-10-01 20:00:00</td>\n",
       "    </tr>\n",
       "    <tr>\n",
       "      <th>31</th>\n",
       "      <td>280.0</td>\n",
       "      <td>127.0</td>\n",
       "      <td>106.0</td>\n",
       "      <td>31</td>\n",
       "      <td>0</td>\n",
       "      <td>2024-10-01 20:00:00</td>\n",
       "    </tr>\n",
       "    <tr>\n",
       "      <th>32</th>\n",
       "      <td>422.0</td>\n",
       "      <td>181.0</td>\n",
       "      <td>114.0</td>\n",
       "      <td>32</td>\n",
       "      <td>0</td>\n",
       "      <td>2024-10-01 20:00:00</td>\n",
       "    </tr>\n",
       "    <tr>\n",
       "      <th>33</th>\n",
       "      <td>225.0</td>\n",
       "      <td>103.0</td>\n",
       "      <td>55.0</td>\n",
       "      <td>33</td>\n",
       "      <td>0</td>\n",
       "      <td>2024-10-01 20:00:00</td>\n",
       "    </tr>\n",
       "    <tr>\n",
       "      <th>34</th>\n",
       "      <td>113.0</td>\n",
       "      <td>60.0</td>\n",
       "      <td>33.0</td>\n",
       "      <td>34</td>\n",
       "      <td>0</td>\n",
       "      <td>2024-10-01 20:00:00</td>\n",
       "    </tr>\n",
       "    <tr>\n",
       "      <th>35</th>\n",
       "      <td>128.0</td>\n",
       "      <td>58.0</td>\n",
       "      <td>29.0</td>\n",
       "      <td>35</td>\n",
       "      <td>1</td>\n",
       "      <td>2024-10-01 20:00:00</td>\n",
       "    </tr>\n",
       "    <tr>\n",
       "      <th>36</th>\n",
       "      <td>907.0</td>\n",
       "      <td>307.0</td>\n",
       "      <td>399.0</td>\n",
       "      <td>36</td>\n",
       "      <td>2</td>\n",
       "      <td>2024-10-01 20:00:00</td>\n",
       "    </tr>\n",
       "    <tr>\n",
       "      <th>37</th>\n",
       "      <td>248.0</td>\n",
       "      <td>101.0</td>\n",
       "      <td>58.0</td>\n",
       "      <td>37</td>\n",
       "      <td>0</td>\n",
       "      <td>2024-10-01 20:00:00</td>\n",
       "    </tr>\n",
       "    <tr>\n",
       "      <th>38</th>\n",
       "      <td>422.0</td>\n",
       "      <td>231.0</td>\n",
       "      <td>163.0</td>\n",
       "      <td>38</td>\n",
       "      <td>1</td>\n",
       "      <td>2024-10-01 20:00:00</td>\n",
       "    </tr>\n",
       "    <tr>\n",
       "      <th>39</th>\n",
       "      <td>118.0</td>\n",
       "      <td>68.0</td>\n",
       "      <td>47.0</td>\n",
       "      <td>39</td>\n",
       "      <td>0</td>\n",
       "      <td>2024-10-01 20:00:00</td>\n",
       "    </tr>\n",
       "    <tr>\n",
       "      <th>40</th>\n",
       "      <td>102.0</td>\n",
       "      <td>61.0</td>\n",
       "      <td>53.0</td>\n",
       "      <td>40</td>\n",
       "      <td>2</td>\n",
       "      <td>2024-10-01 20:00:00</td>\n",
       "    </tr>\n",
       "    <tr>\n",
       "      <th>41</th>\n",
       "      <td>311.0</td>\n",
       "      <td>119.0</td>\n",
       "      <td>82.0</td>\n",
       "      <td>41</td>\n",
       "      <td>0</td>\n",
       "      <td>2024-10-01 20:00:00</td>\n",
       "    </tr>\n",
       "    <tr>\n",
       "      <th>42</th>\n",
       "      <td>60.0</td>\n",
       "      <td>40.0</td>\n",
       "      <td>39.0</td>\n",
       "      <td>42</td>\n",
       "      <td>1</td>\n",
       "      <td>2024-10-01 20:00:00</td>\n",
       "    </tr>\n",
       "    <tr>\n",
       "      <th>43</th>\n",
       "      <td>204.0</td>\n",
       "      <td>130.0</td>\n",
       "      <td>184.0</td>\n",
       "      <td>43</td>\n",
       "      <td>1</td>\n",
       "      <td>2024-10-01 20:00:00</td>\n",
       "    </tr>\n",
       "  </tbody>\n",
       "</table>\n",
       "</div>"
      ],
      "text/plain": [
       "    total_pax_next_1_hour  total_pax_next_2_hour  total_pax_next_3_hour  \\\n",
       "0                   324.0                  136.0                  103.0   \n",
       "1                    81.0                   40.0                   32.0   \n",
       "2                   368.0                  190.0                  117.0   \n",
       "3                   141.0                   62.0                   29.0   \n",
       "4                   271.0                  154.0                  201.0   \n",
       "5                   172.0                   64.0                   41.0   \n",
       "6                  1041.0                  441.0                  610.0   \n",
       "7                   763.0                  409.0                  559.0   \n",
       "8                   208.0                   85.0                   74.0   \n",
       "9                   279.0                  156.0                  119.0   \n",
       "10                 1262.0                  465.0                  472.0   \n",
       "11                   63.0                   45.0                   30.0   \n",
       "12                  249.0                  133.0                   97.0   \n",
       "13                  106.0                   35.0                   32.0   \n",
       "14                  515.0                  261.0                  176.0   \n",
       "15                  170.0                   79.0                   36.0   \n",
       "16                  209.0                  117.0                   57.0   \n",
       "17                   66.0                   31.0                   23.0   \n",
       "18                  207.0                  100.0                   84.0   \n",
       "19                   86.0                   63.0                   28.0   \n",
       "20                  504.0                  192.0                  183.0   \n",
       "21                  201.0                  115.0                  102.0   \n",
       "22                  201.0                   91.0                   70.0   \n",
       "23                  181.0                   83.0                   39.0   \n",
       "24                  370.0                  199.0                  163.0   \n",
       "25                   58.0                   38.0                   28.0   \n",
       "26                  354.0                  158.0                  159.0   \n",
       "27                   47.0                   18.0                   12.0   \n",
       "28                  103.0                   69.0                   30.0   \n",
       "29                  191.0                   74.0                   36.0   \n",
       "30                   92.0                   49.0                   40.0   \n",
       "31                  280.0                  127.0                  106.0   \n",
       "32                  422.0                  181.0                  114.0   \n",
       "33                  225.0                  103.0                   55.0   \n",
       "34                  113.0                   60.0                   33.0   \n",
       "35                  128.0                   58.0                   29.0   \n",
       "36                  907.0                  307.0                  399.0   \n",
       "37                  248.0                  101.0                   58.0   \n",
       "38                  422.0                  231.0                  163.0   \n",
       "39                  118.0                   68.0                   47.0   \n",
       "40                  102.0                   61.0                   53.0   \n",
       "41                  311.0                  119.0                   82.0   \n",
       "42                   60.0                   40.0                   39.0   \n",
       "43                  204.0                  130.0                  184.0   \n",
       "\n",
       "    station  line       hour_of_entry  \n",
       "0         0     0 2024-10-01 20:00:00  \n",
       "1         1     0 2024-10-01 20:00:00  \n",
       "2         2     1 2024-10-01 20:00:00  \n",
       "3         3     2 2024-10-01 20:00:00  \n",
       "4         4     1 2024-10-01 20:00:00  \n",
       "5         5     0 2024-10-01 20:00:00  \n",
       "6         6     1 2024-10-01 20:00:00  \n",
       "7         7     1 2024-10-01 20:00:00  \n",
       "8         8     0 2024-10-01 20:00:00  \n",
       "9         9     0 2024-10-01 20:00:00  \n",
       "10       10     2 2024-10-01 20:00:00  \n",
       "11       11     2 2024-10-01 20:00:00  \n",
       "12       12     1 2024-10-01 20:00:00  \n",
       "13       13     1 2024-10-01 20:00:00  \n",
       "14       14     1 2024-10-01 20:00:00  \n",
       "15       15     0 2024-10-01 20:00:00  \n",
       "16       16     1 2024-10-01 20:00:00  \n",
       "17       17     2 2024-10-01 20:00:00  \n",
       "18       18     2 2024-10-01 20:00:00  \n",
       "19       19     2 2024-10-01 20:00:00  \n",
       "20       20     1 2024-10-01 20:00:00  \n",
       "21       21     0 2024-10-01 20:00:00  \n",
       "22       22     0 2024-10-01 20:00:00  \n",
       "23       23     1 2024-10-01 20:00:00  \n",
       "24       24     1 2024-10-01 20:00:00  \n",
       "25       25     2 2024-10-01 20:00:00  \n",
       "26       26     1 2024-10-01 20:00:00  \n",
       "27       27     0 2024-10-01 20:00:00  \n",
       "28       28     1 2024-10-01 20:00:00  \n",
       "29       29     0 2024-10-01 20:00:00  \n",
       "30       30     0 2024-10-01 20:00:00  \n",
       "31       31     0 2024-10-01 20:00:00  \n",
       "32       32     0 2024-10-01 20:00:00  \n",
       "33       33     0 2024-10-01 20:00:00  \n",
       "34       34     0 2024-10-01 20:00:00  \n",
       "35       35     1 2024-10-01 20:00:00  \n",
       "36       36     2 2024-10-01 20:00:00  \n",
       "37       37     0 2024-10-01 20:00:00  \n",
       "38       38     1 2024-10-01 20:00:00  \n",
       "39       39     0 2024-10-01 20:00:00  \n",
       "40       40     2 2024-10-01 20:00:00  \n",
       "41       41     0 2024-10-01 20:00:00  \n",
       "42       42     1 2024-10-01 20:00:00  \n",
       "43       43     1 2024-10-01 20:00:00  "
      ]
     },
     "execution_count": 5,
     "metadata": {},
     "output_type": "execute_result"
    }
   ],
   "source": [
    "predictions['hour_of_entry'] = current_date\n",
    "predictions"
   ]
  },
  {
   "cell_type": "code",
   "execution_count": 6,
   "id": "c46287de",
   "metadata": {
    "execution": {
     "iopub.execute_input": "2024-10-01T23:18:12.829737Z",
     "iopub.status.busy": "2024-10-01T23:18:12.829737Z",
     "iopub.status.idle": "2024-10-01T23:18:13.079731Z",
     "shell.execute_reply": "2024-10-01T23:18:13.079731Z"
    }
   },
   "outputs": [],
   "source": [
    "predictions['station'] = predictions['station'].astype(int)\n",
    "predictions['line'] = predictions['line'].astype(int)"
   ]
  },
  {
   "cell_type": "code",
   "execution_count": 7,
   "id": "78d85b5e-9dca-4018-851f-d354a6186b38",
   "metadata": {
    "execution": {
     "iopub.execute_input": "2024-10-01T23:18:13.079731Z",
     "iopub.status.busy": "2024-10-01T23:18:13.079731Z",
     "iopub.status.idle": "2024-10-01T23:18:14.113694Z",
     "shell.execute_reply": "2024-10-01T23:18:14.112351Z"
    }
   },
   "outputs": [
    {
     "name": "stdout",
     "output_type": "stream",
     "text": [
      "Connected. Call `.close()` to terminate connection gracefully.\n"
     ]
    }
   ],
   "source": [
    "from src.feature_store_api import get_feature_store\n",
    "import src.config as config\n",
    "\n",
    "# connect to the feature group\n",
    "feature_group = get_feature_store().get_or_create_feature_group(\n",
    "    name=config.FEATURE_GROUP_MODEL_PREDICTIONS,\n",
    "    version=1,\n",
    "    description=\"Predictions generated for the next 3 hours by our production model\",\n",
    "    primary_key = ['station', 'line', 'hour_of_entry'],\n",
    "    event_time='hour_of_entry',\n",
    ")"
   ]
  },
  {
   "cell_type": "code",
   "execution_count": 8,
   "id": "eedb15e4-d02c-4b40-a818-3fad452c9d67",
   "metadata": {
    "execution": {
     "iopub.execute_input": "2024-10-01T23:18:14.118741Z",
     "iopub.status.busy": "2024-10-01T23:18:14.117695Z",
     "iopub.status.idle": "2024-10-01T23:18:25.729035Z",
     "shell.execute_reply": "2024-10-01T23:18:25.729035Z"
    }
   },
   "outputs": [
    {
     "data": {
      "application/vnd.jupyter.widget-view+json": {
       "model_id": "1a4a7889c33945e2a5b7c6b4774c2ae6",
       "version_major": 2,
       "version_minor": 0
      },
      "text/plain": [
       "Uploading Dataframe: 0.00% |          | Rows 0/44 | Elapsed Time: 00:00 | Remaining Time: ?"
      ]
     },
     "metadata": {},
     "output_type": "display_data"
    },
    {
     "name": "stdout",
     "output_type": "stream",
     "text": [
      "Launching job: model_predictions_feature_group__1_offline_fg_materialization\n"
     ]
    },
    {
     "name": "stdout",
     "output_type": "stream",
     "text": [
      "Job started successfully, you can follow the progress at \n",
      "https://c.app.hopsworks.ai/p/603286/jobs/named/model_predictions_feature_group__1_offline_fg_materialization/executions\n"
     ]
    },
    {
     "data": {
      "text/plain": [
       "(<hsfs.core.job.Job at 0x171a31f67c0>, None)"
      ]
     },
     "execution_count": 8,
     "metadata": {},
     "output_type": "execute_result"
    }
   ],
   "source": [
    "feature_group.insert(predictions, write_options={\"wait_for_job\": False})"
   ]
  }
 ],
 "metadata": {
  "kernelspec": {
   "display_name": "Python 3 (ipykernel)",
   "language": "python",
   "name": "python3"
  },
  "language_info": {
   "codemirror_mode": {
    "name": "ipython",
    "version": 3
   },
   "file_extension": ".py",
   "mimetype": "text/x-python",
   "name": "python",
   "nbconvert_exporter": "python",
   "pygments_lexer": "ipython3",
   "version": "3.9.13"
  },
  "widgets": {
   "application/vnd.jupyter.widget-state+json": {
    "state": {
     "0f52e1a8c67549fbb24a3ad611d9e7df": {
      "model_module": "@jupyter-widgets/controls",
      "model_module_version": "2.0.0",
      "model_name": "HTMLModel",
      "state": {
       "_dom_classes": [],
       "_model_module": "@jupyter-widgets/controls",
       "_model_module_version": "2.0.0",
       "_model_name": "HTMLModel",
       "_view_count": null,
       "_view_module": "@jupyter-widgets/controls",
       "_view_module_version": "2.0.0",
       "_view_name": "HTMLView",
       "description": "",
       "description_allow_html": false,
       "layout": "IPY_MODEL_17998895e166452899eff6a1154ac2b8",
       "placeholder": "​",
       "style": "IPY_MODEL_421f1cdc676c4ca78bb1cb323ca83c33",
       "tabbable": null,
       "tooltip": null,
       "value": " Rows 44/44 | Elapsed Time: 00:10 | Remaining Time: 00:00"
      }
     },
     "17998895e166452899eff6a1154ac2b8": {
      "model_module": "@jupyter-widgets/base",
      "model_module_version": "2.0.0",
      "model_name": "LayoutModel",
      "state": {
       "_model_module": "@jupyter-widgets/base",
       "_model_module_version": "2.0.0",
       "_model_name": "LayoutModel",
       "_view_count": null,
       "_view_module": "@jupyter-widgets/base",
       "_view_module_version": "2.0.0",
       "_view_name": "LayoutView",
       "align_content": null,
       "align_items": null,
       "align_self": null,
       "border_bottom": null,
       "border_left": null,
       "border_right": null,
       "border_top": null,
       "bottom": null,
       "display": null,
       "flex": null,
       "flex_flow": null,
       "grid_area": null,
       "grid_auto_columns": null,
       "grid_auto_flow": null,
       "grid_auto_rows": null,
       "grid_column": null,
       "grid_gap": null,
       "grid_row": null,
       "grid_template_areas": null,
       "grid_template_columns": null,
       "grid_template_rows": null,
       "height": null,
       "justify_content": null,
       "justify_items": null,
       "left": null,
       "margin": null,
       "max_height": null,
       "max_width": null,
       "min_height": null,
       "min_width": null,
       "object_fit": null,
       "object_position": null,
       "order": null,
       "overflow": null,
       "padding": null,
       "right": null,
       "top": null,
       "visibility": null,
       "width": null
      }
     },
     "1a4a7889c33945e2a5b7c6b4774c2ae6": {
      "model_module": "@jupyter-widgets/controls",
      "model_module_version": "2.0.0",
      "model_name": "HBoxModel",
      "state": {
       "_dom_classes": [],
       "_model_module": "@jupyter-widgets/controls",
       "_model_module_version": "2.0.0",
       "_model_name": "HBoxModel",
       "_view_count": null,
       "_view_module": "@jupyter-widgets/controls",
       "_view_module_version": "2.0.0",
       "_view_name": "HBoxView",
       "box_style": "",
       "children": [
        "IPY_MODEL_78498a39dbf140eb8bb74ab8ecb25182",
        "IPY_MODEL_4976f94b8b7d48a8809ae6437e27d08c",
        "IPY_MODEL_0f52e1a8c67549fbb24a3ad611d9e7df"
       ],
       "layout": "IPY_MODEL_ab669d82aa704df5859ceb1a585b54f3",
       "tabbable": null,
       "tooltip": null
      }
     },
     "20888c70cb4a4b49b4c4d06e98a0b29c": {
      "model_module": "@jupyter-widgets/controls",
      "model_module_version": "2.0.0",
      "model_name": "ProgressStyleModel",
      "state": {
       "_model_module": "@jupyter-widgets/controls",
       "_model_module_version": "2.0.0",
       "_model_name": "ProgressStyleModel",
       "_view_count": null,
       "_view_module": "@jupyter-widgets/base",
       "_view_module_version": "2.0.0",
       "_view_name": "StyleView",
       "bar_color": null,
       "description_width": ""
      }
     },
     "421f1cdc676c4ca78bb1cb323ca83c33": {
      "model_module": "@jupyter-widgets/controls",
      "model_module_version": "2.0.0",
      "model_name": "HTMLStyleModel",
      "state": {
       "_model_module": "@jupyter-widgets/controls",
       "_model_module_version": "2.0.0",
       "_model_name": "HTMLStyleModel",
       "_view_count": null,
       "_view_module": "@jupyter-widgets/base",
       "_view_module_version": "2.0.0",
       "_view_name": "StyleView",
       "background": null,
       "description_width": "",
       "font_size": null,
       "text_color": null
      }
     },
     "4976f94b8b7d48a8809ae6437e27d08c": {
      "model_module": "@jupyter-widgets/controls",
      "model_module_version": "2.0.0",
      "model_name": "FloatProgressModel",
      "state": {
       "_dom_classes": [],
       "_model_module": "@jupyter-widgets/controls",
       "_model_module_version": "2.0.0",
       "_model_name": "FloatProgressModel",
       "_view_count": null,
       "_view_module": "@jupyter-widgets/controls",
       "_view_module_version": "2.0.0",
       "_view_name": "ProgressView",
       "bar_style": "success",
       "description": "",
       "description_allow_html": false,
       "layout": "IPY_MODEL_88ac57824a8a413a9870036f71dbfcf2",
       "max": 44.0,
       "min": 0.0,
       "orientation": "horizontal",
       "style": "IPY_MODEL_20888c70cb4a4b49b4c4d06e98a0b29c",
       "tabbable": null,
       "tooltip": null,
       "value": 44.0
      }
     },
     "78498a39dbf140eb8bb74ab8ecb25182": {
      "model_module": "@jupyter-widgets/controls",
      "model_module_version": "2.0.0",
      "model_name": "HTMLModel",
      "state": {
       "_dom_classes": [],
       "_model_module": "@jupyter-widgets/controls",
       "_model_module_version": "2.0.0",
       "_model_name": "HTMLModel",
       "_view_count": null,
       "_view_module": "@jupyter-widgets/controls",
       "_view_module_version": "2.0.0",
       "_view_name": "HTMLView",
       "description": "",
       "description_allow_html": false,
       "layout": "IPY_MODEL_db1aa983799b4b1b827d200bced6bba3",
       "placeholder": "​",
       "style": "IPY_MODEL_858e2bd257a5409bb5d93c337c1d7d39",
       "tabbable": null,
       "tooltip": null,
       "value": "Uploading Dataframe: 100.00% "
      }
     },
     "858e2bd257a5409bb5d93c337c1d7d39": {
      "model_module": "@jupyter-widgets/controls",
      "model_module_version": "2.0.0",
      "model_name": "HTMLStyleModel",
      "state": {
       "_model_module": "@jupyter-widgets/controls",
       "_model_module_version": "2.0.0",
       "_model_name": "HTMLStyleModel",
       "_view_count": null,
       "_view_module": "@jupyter-widgets/base",
       "_view_module_version": "2.0.0",
       "_view_name": "StyleView",
       "background": null,
       "description_width": "",
       "font_size": null,
       "text_color": null
      }
     },
     "88ac57824a8a413a9870036f71dbfcf2": {
      "model_module": "@jupyter-widgets/base",
      "model_module_version": "2.0.0",
      "model_name": "LayoutModel",
      "state": {
       "_model_module": "@jupyter-widgets/base",
       "_model_module_version": "2.0.0",
       "_model_name": "LayoutModel",
       "_view_count": null,
       "_view_module": "@jupyter-widgets/base",
       "_view_module_version": "2.0.0",
       "_view_name": "LayoutView",
       "align_content": null,
       "align_items": null,
       "align_self": null,
       "border_bottom": null,
       "border_left": null,
       "border_right": null,
       "border_top": null,
       "bottom": null,
       "display": null,
       "flex": null,
       "flex_flow": null,
       "grid_area": null,
       "grid_auto_columns": null,
       "grid_auto_flow": null,
       "grid_auto_rows": null,
       "grid_column": null,
       "grid_gap": null,
       "grid_row": null,
       "grid_template_areas": null,
       "grid_template_columns": null,
       "grid_template_rows": null,
       "height": null,
       "justify_content": null,
       "justify_items": null,
       "left": null,
       "margin": null,
       "max_height": null,
       "max_width": null,
       "min_height": null,
       "min_width": null,
       "object_fit": null,
       "object_position": null,
       "order": null,
       "overflow": null,
       "padding": null,
       "right": null,
       "top": null,
       "visibility": null,
       "width": null
      }
     },
     "ab669d82aa704df5859ceb1a585b54f3": {
      "model_module": "@jupyter-widgets/base",
      "model_module_version": "2.0.0",
      "model_name": "LayoutModel",
      "state": {
       "_model_module": "@jupyter-widgets/base",
       "_model_module_version": "2.0.0",
       "_model_name": "LayoutModel",
       "_view_count": null,
       "_view_module": "@jupyter-widgets/base",
       "_view_module_version": "2.0.0",
       "_view_name": "LayoutView",
       "align_content": null,
       "align_items": null,
       "align_self": null,
       "border_bottom": null,
       "border_left": null,
       "border_right": null,
       "border_top": null,
       "bottom": null,
       "display": null,
       "flex": null,
       "flex_flow": null,
       "grid_area": null,
       "grid_auto_columns": null,
       "grid_auto_flow": null,
       "grid_auto_rows": null,
       "grid_column": null,
       "grid_gap": null,
       "grid_row": null,
       "grid_template_areas": null,
       "grid_template_columns": null,
       "grid_template_rows": null,
       "height": null,
       "justify_content": null,
       "justify_items": null,
       "left": null,
       "margin": null,
       "max_height": null,
       "max_width": null,
       "min_height": null,
       "min_width": null,
       "object_fit": null,
       "object_position": null,
       "order": null,
       "overflow": null,
       "padding": null,
       "right": null,
       "top": null,
       "visibility": null,
       "width": null
      }
     },
     "db1aa983799b4b1b827d200bced6bba3": {
      "model_module": "@jupyter-widgets/base",
      "model_module_version": "2.0.0",
      "model_name": "LayoutModel",
      "state": {
       "_model_module": "@jupyter-widgets/base",
       "_model_module_version": "2.0.0",
       "_model_name": "LayoutModel",
       "_view_count": null,
       "_view_module": "@jupyter-widgets/base",
       "_view_module_version": "2.0.0",
       "_view_name": "LayoutView",
       "align_content": null,
       "align_items": null,
       "align_self": null,
       "border_bottom": null,
       "border_left": null,
       "border_right": null,
       "border_top": null,
       "bottom": null,
       "display": null,
       "flex": null,
       "flex_flow": null,
       "grid_area": null,
       "grid_auto_columns": null,
       "grid_auto_flow": null,
       "grid_auto_rows": null,
       "grid_column": null,
       "grid_gap": null,
       "grid_row": null,
       "grid_template_areas": null,
       "grid_template_columns": null,
       "grid_template_rows": null,
       "height": null,
       "justify_content": null,
       "justify_items": null,
       "left": null,
       "margin": null,
       "max_height": null,
       "max_width": null,
       "min_height": null,
       "min_width": null,
       "object_fit": null,
       "object_position": null,
       "order": null,
       "overflow": null,
       "padding": null,
       "right": null,
       "top": null,
       "visibility": null,
       "width": null
      }
     }
    },
    "version_major": 2,
    "version_minor": 0
   }
  }
 },
 "nbformat": 4,
 "nbformat_minor": 5
}
